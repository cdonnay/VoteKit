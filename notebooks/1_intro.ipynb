{
  "cells": [
    {
      "cell_type": "markdown",
      "metadata": {
        "id": "MOatIRHlN3AQ"
      },
      "source": [
        "# Getting started with VoteKit\n",
        "\n",
        "VoteKit is a Python package developed by MGGG in order to support computational social choice researchers as well as practitioners and advocates interested in so-called \"alternative\" systems of election. This first section will help us hit the ground running by introducing some of our key vocabulary and introducing some Python syntax along the way. By the end of the section, you should know about ballots, preference profiles, preference intervals, blocs/slates, and election systems.\n",
        "\n",
        "## Ballots\n",
        "\n",
        "The first order of business is ballots. In the context of ranked choice voting, a ballot records a voter's preferences as a linear ordering of the candidates. If a voter casts the ballot $A>B>C$, this means they prefer candidate $A$ to $B$ and candidate $B$ to $C$. (We often use the $>$ symbol to indicate higher preference.) Let's see how ballots are stored in VoteKit. First we import the necessary modules."
      ]
    },
    {
      "cell_type": "code",
      "execution_count": 1,
      "metadata": {
        "id": "4u_aAzSVuMnJ"
      },
      "outputs": [
        {
          "name": "stdout",
          "output_type": "stream",
          "text": [
            "Ballot\n",
            "1.) A, \n",
            "2.) B, \n",
            "3.) C, \n",
            "Weight: 3/2\n",
            "\n"
          ]
        }
      ],
      "source": [
        "from votekit.ballot import Ballot\n",
        "from fractions import Fraction\n",
        "\n",
        "ballot = Ballot(ranking = [{\"A\"}, {\"B\"}, {\"C\"}], weight = Fraction(3,2))\n",
        "print(ballot)"
      ]
    },
    {
      "cell_type": "markdown",
      "metadata": {
        "id": "Zh6eadhzQdZQ"
      },
      "source": [
        "Here, we have created one ballot. The ballot stored the ranking $A>B>C$. The weight attribute indicates \"how many\" of this ballot were cast. It defaults to 1, but we have put in 3/2.  A fractional weight will be useful in single transferable vote (STV) elections!\n",
        "\n",
        "\n",
        "### **Try it yourself**\n",
        "> Create three new ballots, one with weight 47, one with weight 22/7, and one with your own weight idea.\n",
        "\n"
      ]
    },
    {
      "cell_type": "markdown",
      "metadata": {
        "id": "jiKj4fffRQTF"
      },
      "source": [
        "\n",
        "\n",
        "Let's dig a bit more into how the ranking is stored. It is a list of sets, where the first set in the list indicates which candidates were ranked first, the second set is who was ranked second, etc. In the first example, we stored a **full linear ranking**. There was only one candidate listed in each position, and every candidate was listed.\n",
        "\n",
        "Full linear rankings are not the only possible ballots.\n",
        "Real-world voters frequently list multiple candidates in the same position (even if that is against the rules of the election). As far as we know, this is always treated by localities running ranked choice elections as a voter error, called an **overvote**.\n",
        "\n",
        "Voters also leave some candidates out. In an extreme case, when a voter only lists one candidate, we call this a **bullet vote**.  These are fairly common in ranked elections.  A position with no candidates listed is sometimes called an **undervote**.\n",
        "\n",
        "We might prefer for localities running ranked choice elections to be smart about the voter intent to communicate a tied preference -- and we can do that in VoteKit.  But we'll get to running elections later."
      ]
    },
    {
      "cell_type": "code",
      "execution_count": 2,
      "metadata": {
        "id": "Os5WCB4PRO_2"
      },
      "outputs": [
        {
          "name": "stdout",
          "output_type": "stream",
          "text": [
            "A ballot with overvotes: Ballot\n",
            "1.) D, A, (tie)\n",
            "2.) B, \n",
            "3.) E, C, F, (tie)\n",
            "Weight: 1\n",
            "\n"
          ]
        }
      ],
      "source": [
        "ballot = Ballot(ranking = [{\"A\", \"D\"}, {\"B\", \"B\", \"B\"}, {\"C\", \"E\", \"F\"}])\n",
        "print(\"A ballot with overvotes:\", ballot)"
      ]
    },
    {
      "cell_type": "markdown",
      "metadata": {
        "id": "AAzcjcCMSCgq"
      },
      "source": [
        "This ballot says that candidates $D$ and $A$ were ranked first, $B$ second, and $E,C,F$ all in third."
      ]
    },
    {
      "cell_type": "code",
      "execution_count": 3,
      "metadata": {
        "id": "WSNDpLC4SBSC"
      },
      "outputs": [
        {
          "name": "stdout",
          "output_type": "stream",
          "text": [
            "A bullet vote:\n",
            "Ballot\n",
            "1.) B, \n",
            "Weight: 1\n",
            "\n"
          ]
        }
      ],
      "source": [
        "ballot = Ballot(ranking = [{\"B\"}])\n",
        "print(\"A bullet vote:\")\n",
        "print(ballot)"
      ]
    },
    {
      "cell_type": "markdown",
      "metadata": {
        "id": "VFn78vLhTE1m"
      },
      "source": [
        "This ballot is a bullet vote; only candidate $B$ is listed in first."
      ]
    },
    {
      "cell_type": "markdown",
      "metadata": {
        "id": "xEIzTeraVy8V"
      },
      "source": [
        "### **Automatic cleaning vs specified cleaning**\n",
        "What we really mean to illustrate above is that the Ballot class has no understanding of the rules of your election. It is flexible enough to allow all sorts of rankings, even ones that are not valid. \n",
        "\n",
        "Since the ranking is a list of *sets*, the only default cleaning that occurs in ballots in VoteKit is that the candidates listed in a particular position will be deduplicated. In the code above, the first ballot should only print with one candidate named \"B\" in position two. \n",
        "\n",
        "There are many other kinds of cleaning functions, but you have to choose to apply those yourself. This is really crucial to know; lots of elections will behave strangely if you do not have the correct ballot types as input, but it is up to you to clean them to the level needed for your method of election."
      ]
    },
    {
      "cell_type": "markdown",
      "metadata": {
        "id": "N5EKCH49WK81"
      },
      "source": [
        "## Preference Profiles\n",
        "\n",
        "When we want to aggregate a collection of ballots cast by voters, we use the `PreferenceProfile` object. It stores all of the ballots, allows us to visualize them, and comes with some handy features. \n",
        "\n",
        "First we display the simple profile, which just repeats the weights as they were inputted."
      ]
    },
    {
      "cell_type": "code",
      "execution_count": 4,
      "metadata": {
        "id": "iV5cI77LWD8K"
      },
      "outputs": [
        {
          "name": "stdout",
          "output_type": "stream",
          "text": [
            "  Ballots Weight\n",
            "(A, B, C)      3\n",
            "(B, A, C)      1\n",
            "(C, B, A)      1\n",
            "(A, B, C)      1\n",
            "(A, B, C)      1\n",
            "(B, A, C)      1\n"
          ]
        }
      ],
      "source": [
        "from votekit.pref_profile import PreferenceProfile\n",
        "\n",
        "candidates = [\"A\", \"B\", \"C\"]\n",
        "\n",
        "# let's assume that the ballots come from voters, \n",
        "# so they all have integer weight for now\n",
        "ballots = [Ballot(ranking = [{\"A\"}, {\"B\"}, {\"C\"}],weight=3),\n",
        "           Ballot(ranking = [{\"B\"}, {\"A\"}, {\"C\"}]),\n",
        "           Ballot(ranking = [{\"C\"}, {\"B\"}, {\"A\"}]),\n",
        "           Ballot(ranking = [{\"A\"}, {\"B\"}, {\"C\"}]),\n",
        "           Ballot(ranking = [{\"A\"}, {\"B\"}, {\"C\"}]),\n",
        "           Ballot(ranking = [{\"B\"}, {\"A\"}, {\"C\"}])]\n",
        "\n",
        "# we give the profile a list of ballots and a list of candidates\n",
        "profile = PreferenceProfile(ballots = ballots, candidates = candidates)\n",
        "\n",
        "print(profile)"
      ]
    },
    {
      "cell_type": "markdown",
      "metadata": {
        "id": "LjgbAkwcXIOp"
      },
      "source": [
        "The `PreferenceProfile` class takes a list of `Ballot` objects and a list of candidates. The candidate names must be distinct, and it will raise an error if not. Providing the list of candidates is actually optional, and it has no impact on the Profile object.  However, later when we move on to ballot generation, the list of candidates will be important.\n"
      ]
    },
    {
      "cell_type": "markdown",
      "metadata": {
        "id": "lT-zJGRm3Akl"
      },
      "source": [
        "Notice that printing the profile did not automatically combine like ballots into a single line. But there's an easy way to get the condensed profile, as follows."
      ]
    },
    {
      "cell_type": "code",
      "execution_count": 5,
      "metadata": {
        "id": "h_biXoD6XHNm"
      },
      "outputs": [
        {
          "name": "stdout",
          "output_type": "stream",
          "text": [
            "  Ballots Weight\n",
            "(A, B, C)      5\n",
            "(B, A, C)      2\n",
            "(C, B, A)      1\n"
          ]
        }
      ],
      "source": [
        "condensed_profile  = profile.condense_ballots()\n",
        "print(condensed_profile)"
      ]
    },
    {
      "cell_type": "markdown",
      "metadata": {
        "id": "yGAI75oba9Ld"
      },
      "source": [
        "In these examples, the profiles are very short, so we can print the entire profile. If there were more ballots (either uncondensed or different rankings), we'd see the message \"PreferenceProfile too long, only showing 15 out of XX rows.\""
      ]
    },
    {
      "cell_type": "code",
      "execution_count": 6,
      "metadata": {
        "id": "7_GiNmc5X1PP"
      },
      "outputs": [
        {
          "name": "stdout",
          "output_type": "stream",
          "text": [
            "PreferenceProfile too long, only showing 15 out of 36 rows.\n",
            "  Ballots Weight\n",
            "(A, B, C)      1\n",
            "(B, A, C)      1\n",
            "(C, B, A)      1\n",
            "     (A,)      1\n",
            "(A, B, C)      1\n",
            "   (B, A)      1\n",
            "(A, B, C)      1\n",
            "(B, A, C)      1\n",
            "(C, B, A)      1\n",
            "     (A,)      1\n",
            "(A, B, C)      1\n",
            "   (B, A)      1\n",
            "(A, B, C)      1\n",
            "(B, A, C)      1\n",
            "(C, B, A)      1\n"
          ]
        }
      ],
      "source": [
        "ballots = [Ballot(ranking = [{\"A\"}, {\"B\"}, {\"C\"}]),\n",
        "           Ballot(ranking = [{\"B\"}, {\"A\"}, {\"C\"}]),\n",
        "           Ballot(ranking = [{\"C\"}, {\"B\"}, {\"A\"}]),\n",
        "           Ballot(ranking = [{\"A\"}]),\n",
        "           Ballot(ranking = [{\"A\"}, {\"B\"}, {\"C\"}]),\n",
        "           Ballot(ranking = [{\"B\"}, {\"A\"}])]\n",
        "\n",
        "profile = PreferenceProfile(ballots = ballots*6,\n",
        "                            candidates = candidates)\n",
        "\n",
        "print(profile)"
      ]
    },
    {
      "cell_type": "markdown",
      "metadata": {
        "id": "XiQVNiA_bRr5"
      },
      "source": [
        "To see more of the ballots, we can use the `head` and `tail` methods in the `PreferenceProfile` class. These display a user-specified number of ballots. By default, it lists them in the order inputted. We can ask `head` and `tail` to display them in order by weight by using the `sort_by_weight` parameter and setting it to `True`."
      ]
    },
    {
      "cell_type": "code",
      "execution_count": 7,
      "metadata": {
        "id": "r9vCLNfHbKv8"
      },
      "outputs": [
        {
          "name": "stdout",
          "output_type": "stream",
          "text": [
            "     Ballots Weight\n",
            "0  (A, B, C)      1\n",
            "1  (B, A, C)      1\n",
            "2  (C, B, A)      1\n",
            "3       (A,)      1\n",
            "4  (A, B, C)      1\n",
            "5     (B, A)      1\n",
            "6  (A, B, C)      1\n",
            "7  (B, A, C)      1\n",
            "\n",
            "      Ballots Weight\n",
            "35  (A, B, C)      1\n",
            "34  (C, B, A)      1\n",
            "33       (A,)      1\n",
            "32  (A, B, C)      1\n",
            "31     (B, A)      1\n",
            "30  (A, B, C)      1\n",
            "29  (B, A, C)      1\n",
            "28  (B, A, C)      1\n",
            "\n",
            "Ballots    (A, B, C)\n",
            "Weight             1\n",
            "Percent        2.78%\n",
            "Name: 10, dtype: object\n",
            "\n",
            "     Ballots Weight\n",
            "0  (A, B, C)     12\n",
            "1  (B, A, C)      6\n",
            "2  (C, B, A)      6\n",
            "3       (A,)      6\n",
            "4     (B, A)      6\n"
          ]
        }
      ],
      "source": [
        "# this will print the top 8 in order of input\n",
        "print(profile.head(8))\n",
        "print()\n",
        "\n",
        "# and the bottom 8\n",
        "print(profile.tail(8))\n",
        "print()\n",
        "\n",
        "# and the entry indexed 10, which includes the percent of the profile \n",
        "# this ballot accounts for\n",
        "print(profile.df.iloc[10])\n",
        "print()\n",
        "\n",
        "# condense and sort by by weight\n",
        "condensed_profile = profile.condense_ballots()\n",
        "print(condensed_profile.head(8,sort_by_weight=True))\n"
      ]
    },
    {
      "cell_type": "markdown",
      "metadata": {
        "id": "QYI-IpCKbyQA"
      },
      "source": [
        "A few other useful methods are listed here.  Use `profile.METHODNAME()` for each one.\n",
        "\n",
        "- `get_candidates()` returns the list of candidates who received any votes.\n",
        "\n",
        "- `get_ballots()` returns the list of ballots (useful if you want to extract the ballots as a list to write custom code, say).\n",
        "\n",
        "- `num_ballots()` returns the number of ballots, which is the sum of the weights.\n",
        "\n",
        "- `to_dict(standardize = False)` returns the profile as dictionary whose keys are the rankings that received votes and whose values are the weights (condensed). Comes with an optional `standardize` argument which divides the weights by the total weight.\n",
        "\n",
        "- `to_csv(fpath = \"name_of_file.csv\")` saves the profile as a csv (useful if you want to replicate runs of an experiment).\n",
        "\n",
        "\n",
        "\n",
        "### **Try it yourself**\n",
        "> Try using all five of the above methods, with or without condensing the ballots. Try switching the `standardize` parameter in `to_dict` from False to True, and change the `fpath` parameter in `to_csv` to a file name that makes sense.\n",
        "\n",
        "\n"
      ]
    },
    {
      "cell_type": "markdown",
      "metadata": {
        "id": "Y1t2QPGYeN14"
      },
      "source": [
        "## Preference Intervals\n",
        "\n",
        "There are a few ways to input ballots into VoteKit. You can type them all by hand as we did above, you can read them in from real-world vote records, or you can generate them within VoteKit. While we will dive a lot deeper into reading and generating in future sections, it is worthwhile to introduce some of the vocabulary surrounding generative models here.\n",
        "\n",
        "Most of our generative models rely on a **preference interval**. A preference interval stores information about the relative strengths of a voter's priorities for candidates. We visualize this, unsurprisingly, as an interval. We take the interval $[0,1]$ and divide it into pieces, where we've taken all the preference weights and scaled so they add to 1.\n",
        "\n",
        "For example,\n",
        "```\n",
        "{\"A\": 0.7, \"B\": 0.2, \"C\": 0.1}\n",
        "```\n",
        "is a dictionary that represents an ordered preference interval where A is preferred to B by a ratio of 7/2, etc.  \n",
        "\n",
        "Later, the ballot generator models will pull from these preferences to create a ballot for each voter.\n",
        "\n",
        "It should be remarked that there is a difference, at least to VoteKit, between the intervals\n",
        "```\n",
        "{\"A\": 0.7, \"B\": 0.3, \"C\": 0} and\n",
        "{\"A\": 0.7, \"B\": 0.3}\n",
        "```\n",
        "\n",
        "While both say there is no preference for candidate C, if the latter interval is fed into VoteKit, that third candidate will never appear on a generated ballot. If we feed it the former interval, the third candidate will appear at the bottom of the ballot.\n",
        "\n",
        "![png](../../_static/assets/preference_interval.png)"
      ]
    },
    {
      "cell_type": "markdown",
      "metadata": {
        "id": "cZU00wL2syvx"
      },
      "source": [
        "One of the generative models is called the **slate-Plackett-Luce model**, or s-PL.  In s-PL, voters fill in their ballot from the top position to the bottom by choosing from the available candidates in proportion to their preference weights. We call this the impulsive voter model.\n",
        "\n",
        "You can read more about s-PL in our social choice documentation, but for now let's use it to explore how intervals work. We will assume there is only one bloc of voters. This makes the syntax look a little strange, but bear with us."
      ]
    },
    {
      "cell_type": "code",
      "execution_count": 8,
      "metadata": {
        "id": "uzXMLfmxtnaX"
      },
      "outputs": [
        {
          "name": "stdout",
          "output_type": "stream",
          "text": [
            "  Ballots Weight\n",
            "(A, B, C)     61\n",
            "(A, C, B)     17\n",
            "(B, A, C)     17\n",
            "(C, A, B)      4\n",
            "(B, C, A)      1\n"
          ]
        }
      ],
      "source": [
        "import votekit.ballot_generator as bg\n",
        "from votekit import PreferenceInterval\n",
        "\n",
        "# the sPL model assumes there are blocs of voters, \n",
        "# but we can just say that there is only one bloc\n",
        "bloc_voter_prop = {\"all_voters\": 1}\n",
        "slate_to_candidates= {\"all_voters\": [\"A\", \"B\", \"C\"]}\n",
        "\n",
        "# the preference interval (80,15,5)\n",
        "pref_intervals_by_bloc = {\"all_voters\":  \n",
        "                          {\"all_voters\": PreferenceInterval({\"A\": .80,  \"B\":.15,  \"C\":.05})}\n",
        "                          }\n",
        "\n",
        "# the sPL model needs an estimate of cohesion between blocs, \n",
        "# but there is only one bloc here\n",
        "cohesion_parameters = {\"all_voters\": {\"all_voters\": 1}}\n",
        "\n",
        "pl = bg.slate_PlackettLuce(pref_intervals_by_bloc = pref_intervals_by_bloc,\n",
        "                     bloc_voter_prop = bloc_voter_prop,\n",
        "                     slate_to_candidates = slate_to_candidates,\n",
        "                     cohesion_parameters=cohesion_parameters)\n",
        "\n",
        "profile = pl.generate_profile(number_of_ballots = 100)\n",
        "print(profile)"
      ]
    },
    {
      "cell_type": "markdown",
      "metadata": {
        "id": "YGP-q_Og9EgR"
      },
      "source": [
        "Re-run the above block several times to see that the elections will come out different!  The s-PL model is random, meaning we won't always get the same profile when we run `generate_profile` (although we are planning to implement an explicit `random seed` option so that you can replicate runs). You probably won't get the same output as what is stored in this tutorial either. That's okay! Check that most ballots rank $A$ first, which is expected because they had the largest portion of the preference interval. Likewise, $C$ is least popular."
      ]
    },
    {
      "cell_type": "markdown",
      "metadata": {
        "id": "voW7i4ibu_w4"
      },
      "source": [
        "## Blocs\n",
        "\n",
        "A **bloc** of voters is a group of voters who have similar voting behavior, generally preferring their **slate** of candidates to the slates associated to other blocs. In VoteKit, we model this by assuming voters within a bloc have the same preference interval. Let's look at an example where there are two blocs called Alpha and Xenon, each with a two-candidate slate ($A,B$ and $X,Y$, respectively). \n",
        "\n",
        "By introducing blocs, we also need to discuss cohesion parameters. In realistic polarized elections, we might be able to identify two groups with different voting tendencies, but real voting blocs are not perfectly monolithic---some voters will stick with their slate, but many others might have a tendency to \"cross over\" to the other slate sometimes in constructing their ballot.\n",
        "\n",
        "The precise meaning of these vary by model, but broadly speaking, **cohesion parameters** measure the strength with which voters stick to their bloc."
      ]
    },
    {
      "cell_type": "code",
      "execution_count": 9,
      "metadata": {
        "id": "sDqeF_SouFkp"
      },
      "outputs": [
        {
          "name": "stdout",
          "output_type": "stream",
          "text": [
            "The ballots from Alpha voters\n",
            "      Ballots Weight\n",
            "(A, B, Y, X)   5527\n",
            "(B, A, Y, X)    967\n",
            "(Y, A, B, X)    673\n",
            "(A, Y, B, X)    605\n",
            "(Y, B, A, X)    123\n",
            "(B, Y, A, X)    105\n",
            "The ballots from Xenon voters\n",
            " PreferenceProfile too long, only showing 15 out of 24 rows.\n",
            "     Ballots Weight\n",
            "(Y, X, A, B)    415\n",
            "(X, Y, B, A)    405\n",
            "(Y, X, B, A)    401\n",
            "(X, Y, A, B)    397\n",
            "(B, Y, X, A)     50\n",
            "(A, X, Y, B)     45\n",
            "(B, X, Y, A)     44\n",
            "(Y, B, X, A)     41\n",
            "(X, A, Y, B)     40\n",
            "(Y, A, X, B)     36\n",
            "(X, B, Y, A)     35\n",
            "(A, Y, X, B)     33\n",
            "(A, B, X, Y)      9\n",
            "(B, Y, A, X)      9\n",
            "(A, X, B, Y)      7\n",
            "Aggregated ballots\n",
            " PreferenceProfile too long, only showing 15 out of 30 rows.\n",
            "     Ballots Weight\n",
            "(A, B, Y, X)   5527\n",
            "(B, A, Y, X)    967\n",
            "(Y, A, B, X)    673\n",
            "(A, Y, B, X)    605\n",
            "(Y, X, A, B)    415\n",
            "(X, Y, B, A)    405\n",
            "(Y, X, B, A)    401\n",
            "(X, Y, A, B)    397\n",
            "(Y, B, A, X)    123\n",
            "(B, Y, A, X)    105\n",
            "(B, Y, X, A)     50\n",
            "(A, X, Y, B)     45\n",
            "(B, X, Y, A)     44\n",
            "(Y, B, X, A)     41\n",
            "(X, A, Y, B)     40\n"
          ]
        }
      ],
      "source": [
        "slate_to_candidates= {\"Alpha\": [\"A\", \"B\"],\n",
        "                      \"Xenon\": [\"X\", \"Y\"]}\n",
        "\n",
        "# note that we include candidates with 0 support, \n",
        "# and that our preference intervals will automatically rescale to sum to 1\n",
        "\n",
        "pref_intervals_by_bloc = {\"Alpha\": {\"Alpha\": PreferenceInterval({\"A\": .8, \"B\":.15}),\n",
        "                                    \"Xenon\": PreferenceInterval({\"X\":0, \"Y\": .05})},\n",
        "\n",
        "                         \"Xenon\": {\"Alpha\": PreferenceInterval({\"A\": .05, \"B\":.05}),\n",
        "                                   \"Xenon\": PreferenceInterval({\"X\":.45, \"Y\": .45})}}\n",
        "\n",
        "\n",
        "bloc_voter_prop = {\"Alpha\": .8, \"Xenon\": .2}\n",
        "\n",
        "# assume that each bloc is 90% cohesive\n",
        "# we'll discuss exactly what that means later\n",
        "cohesion_parameters = {\"Alpha\": {\"Alpha\": .9, \"Xenon\": .1},\n",
        "                       \"Xenon\": {\"Xenon\": .9, \"Alpha\": .1}}\n",
        "\n",
        "pl = bg.slate_PlackettLuce(pref_intervals_by_bloc = pref_intervals_by_bloc,\n",
        "                     bloc_voter_prop = bloc_voter_prop,\n",
        "                     slate_to_candidates = slate_to_candidates,\n",
        "                     cohesion_parameters=cohesion_parameters)\n",
        "\n",
        "# the by_bloc parameter allows us to see which ballots came from which blocs of voters\n",
        "profile_dict, agg_profile = pl.generate_profile(number_of_ballots = 10000, by_bloc=True)\n",
        "print(\"The ballots from Alpha voters\\n\", profile_dict[\"Alpha\"])\n",
        "\n",
        "print(\"The ballots from Xenon voters\\n\", profile_dict[\"Xenon\"])\n",
        "\n",
        "print(\"Aggregated ballots\\n\", agg_profile)"
      ]
    },
    {
      "cell_type": "markdown",
      "metadata": {
        "id": "DfkYP0Ypv8RM"
      },
      "source": [
        "Scan this to be sure it is reasonable, recalling that our intervals say that the Alpha voters prefer $A$ to $B$, while $X$ has no support in that bloc. Xenon voters like $X$ and $Y$ equally, and then like $A$ and $B$ equally (although much less than their own slate). There should be a lot more Alpha-style voters than Xenon-style voters.\n",
        "\n"
      ]
    },
    {
      "cell_type": "markdown",
      "metadata": {
        "id": "ifuP_btCwgFV"
      },
      "source": [
        "## Elections\n",
        "\n",
        "Finally, we are ready to run an election. It is important to distinguish between *preference profiles*, which are a collection of ballots, and *elections*, which are the method by which those ballots are converted to an outcome (candidates elected to seats). We will explore all sorts of election types in later notebooks. For now, let's use a plurality election on a small set of ballots so we can verify that it behaves as it should."
      ]
    },
    {
      "cell_type": "code",
      "execution_count": 10,
      "metadata": {
        "id": "IEVM_dcrw4Lk"
      },
      "outputs": [
        {
          "name": "stdout",
          "output_type": "stream",
          "text": [
            "  Ballots Weight\n",
            "(A, B, C)     18\n",
            "(B, A, C)     12\n",
            "(C, B, A)      6\n",
            "Current Round: 1\n",
            "Candidate     Status  Round\n",
            "        A    Elected      1\n",
            "        B Eliminated      1\n",
            "        C Eliminated      1\n"
          ]
        }
      ],
      "source": [
        "from votekit.elections import Plurality\n",
        "\n",
        "ballots = [Ballot(ranking = [{\"A\"}, {\"B\"}, {\"C\"}]),\n",
        "           Ballot(ranking = [{\"B\"}, {\"A\"}, {\"C\"}]),\n",
        "           Ballot(ranking = [{\"C\"}, {\"B\"}, {\"A\"}]),\n",
        "           Ballot(ranking = [{\"A\"}, {\"B\"}, {\"C\"}]),\n",
        "           Ballot(ranking = [{\"A\"}, {\"B\"}, {\"C\"}]),\n",
        "           Ballot(ranking = [{\"B\"}, {\"A\"}, {\"C\"}])]\n",
        "\n",
        "profile = PreferenceProfile(ballots = ballots*6,\n",
        "                            candidates = candidates)\n",
        "\n",
        "profile = profile.condense_ballots()\n",
        "\n",
        "print(profile)\n",
        "\n",
        "election = Plurality(profile = profile,\n",
        "                     seats = 1)\n",
        "\n",
        "print(election.run_election())"
      ]
    },
    {
      "cell_type": "markdown",
      "metadata": {
        "id": "80gR-vtGxnBK"
      },
      "source": [
        "If everything worked as intended, you should see that $A$ was elected, while $B,C$ were eliminated. There is only one round, as plurality elections are single step.\n",
        "\n"
      ]
    },
    {
      "cell_type": "markdown",
      "metadata": {
        "id": "-CaLVxrBcSYw"
      },
      "source": [
        "You can also run a plurality election with more seats than one; it just takes the $m$ candidates with the most first-place support as winners.\n",
        "\n",
        "For advanced users:  if several candidates had the same level of first-place support, the default tiebreaker in VoteKit is just uniformly random.  Please note:  when `run_election` is run for the first time, the result is cached.  Any subsequent call will use the same will return the same result, randomness and all.  If you want to re-run with different randomness, be sure the call to  `run_election` is in the same code block that the election is defined."
      ]
    },
    {
      "cell_type": "markdown",
      "metadata": {
        "id": "ndNN2Lubx6KX"
      },
      "source": [
        "### Conclusion\n",
        "The goal of this section was to introduce the vocabulary of VoteKit and ranked choice voting. You should now know about ballots, preference profiles, preference intervals, blocs/slates, and the distinction between profiles and elections. "
      ]
    },
    {
      "cell_type": "markdown",
      "metadata": {
        "id": "GOUhZ8PhutTZ"
      },
      "source": [
        "#### Extra Prompts\n",
        "\n",
        "If you have finished this section and are looking to extend your understanding, try the following prompts:\n",
        "\n",
        "- Write your own profile with four candidates named Trump, Rubio, Cruz, and Kasich, a preference interval of your choice, and with the bloc name set to \"Repubs2016\". Generate 1000 ballots. Are they distributed how they should be given your preference interval?\n",
        "- Create a preference profile where candidates $B,C$ should be elected under a 2-seat plurality election. Run the election and confirm!"
      ]
    }
  ],
  "metadata": {
    "colab": {
      "provenance": []
    },
    "kernelspec": {
      "display_name": "Python 3",
      "name": "python3"
    },
    "language_info": {
      "codemirror_mode": {
        "name": "ipython",
        "version": 3
      },
      "file_extension": ".py",
      "mimetype": "text/x-python",
      "name": "python",
      "nbconvert_exporter": "python",
      "pygments_lexer": "ipython3",
      "version": "3.11.8"
    }
  },
  "nbformat": 4,
  "nbformat_minor": 0
}
