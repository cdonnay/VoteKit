{
 "cells": [
  {
   "cell_type": "markdown",
   "id": "3bf911bd",
   "metadata": {},
   "source": [
    "# Getting started with `votekit`\n",
    "\n",
    "This guide will help you get started using `votekit`, by using real election data from the 2013 Minneapolis mayoral election. This election had 35 candidates running for one seat, and used a single-winner IRV method to elect the winner. Voters were allowed to rank their top three candidates. "
   ]
  },
  {
   "cell_type": "code",
   "execution_count": 1,
   "id": "a8729ca4",
   "metadata": {},
   "outputs": [],
   "source": [
    "# these are the votekit functions we'll need access to\n",
    "from votekit.cvr_loaders import load_csv\n",
    "from votekit.elections import STV, fractional_transfer\n",
    "from votekit.cleaning import remove_noncands"
   ]
  },
  {
   "cell_type": "markdown",
   "id": "d4ca6e08",
   "metadata": {},
   "source": [
    "You can find the necessary csv file `mn_2013_cast_vote_record.csv` in the `votekit/data` folder of the GitHub repo. Alternatively, you can download the offical cast vote record (CVR) [here](https://vote.minneapolismn.gov/results-data/election-results/2013/mayor/). Download a verison of the file, and then edit the path below to where you placed it. The csv file has 3 columns we care about. The first, entitled '1ST CHOICE MAYOR MINNEAPOLIS' in the official CVR, tells us a voters top choice, then the second tells us their second choice, and the third their third choice.\n",
    "\n",
    "The first thing we will do is create a `PreferenceProfile` object from our csv. A preference profile is a term from the social choice literature that represents the rankings of some set of candidates from some voters. Put another way, a preference profile stores the votes from an election, and is a collection of `Ballot` objects and candidates. \n",
    "\n",
    "We give the `load_csv` function the path to the csv file. By default, each column of the csv should correspond to a ranking of a candidate, given in decreasing order (the first column is the voters top choice, the last column their bottom choice.) There are some other optional parameters which you can read about in the documentation."
   ]
  },
  {
   "cell_type": "code",
   "execution_count": 2,
   "id": "81155e1c",
   "metadata": {},
   "outputs": [],
   "source": [
    "# you'll need to edit this path!\n",
    "minneapolis_profile = load_csv(\"../src/votekit/data/mn_2013_cast_vote_record.csv\")"
   ]
  },
  {
   "cell_type": "markdown",
   "id": "ac839912",
   "metadata": {},
   "source": [
    "The `PreferenceProfile` object has lots of helpful methods that allow us to study our votes. Let's use some of them to explore the ballots that were submitted. This is crucial since our data was not preprocessed. There could be undervotes, overvotes, defective, or spoiled ballots.\n",
    "\n",
    "The `get_candidates` method returns a unique list of candidates. The `head` method shows the top *n* ballots. In the first column, we see the ballot that was cast. In the second column, we see how many of that type of ballot were cast. "
   ]
  },
  {
   "cell_type": "code",
   "execution_count": 3,
   "id": "9e4f7ad9",
   "metadata": {},
   "outputs": [
    {
     "name": "stdout",
     "output_type": "stream",
     "text": [
      "['JOHN LESLIE HARTWIG', 'ALICIA K. BENNETT', 'ABDUL M RAHAMAN \"THE ROCK\"', 'CAPTAIN JACK SPARROW', 'STEPHANIE WOODRUFF', 'JAMES EVERETT', 'JAMES \"JIMMY\" L. STROUD, JR.', 'DOUG MANN', 'CHRISTOPHER CLARK', 'TROY BENJEGERDES', 'JACKIE CHERRYHOMES', 'DON SAMUELS', 'KURTIS W. HANNA', 'overvote', 'MARK ANDREW', 'OLE SAVIOR', 'TONY LANE', 'JAYMIE KELLY', 'MIKE GOULD', 'CHRISTOPHER ROBIN ZIMMERMAN', 'GREGG A. IVERSON', 'DAN COHEN', 'CYD GORMAN', 'UWI', 'BILL KAHN', 'RAHN V. WORKCUFF', 'MERRILL ANDERSON', 'CAM WINTON', 'EDMUND BERNARD BRUYERE', 'BETSY HODGES', 'undervote', 'BOB FINE', 'JOHN CHARLES WILSON', 'JEFFREY ALAN WAGNER', 'JOSHUA REA', 'MARK V ANDERSON', 'NEAL BAXTER', 'BOB \"AGAIN\" CARNEY JR']\n"
     ]
    },
    {
     "data": {
      "text/html": [
       "<div>\n",
       "<style scoped>\n",
       "    .dataframe tbody tr th:only-of-type {\n",
       "        vertical-align: middle;\n",
       "    }\n",
       "\n",
       "    .dataframe tbody tr th {\n",
       "        vertical-align: top;\n",
       "    }\n",
       "\n",
       "    .dataframe thead th {\n",
       "        text-align: right;\n",
       "    }\n",
       "</style>\n",
       "<table border=\"1\" class=\"dataframe\">\n",
       "  <thead>\n",
       "    <tr style=\"text-align: left;\">\n",
       "      <th></th>\n",
       "      <th>Ballots</th>\n",
       "      <th>Weight</th>\n",
       "    </tr>\n",
       "  </thead>\n",
       "  <tbody>\n",
       "    <tr>\n",
       "      <th>0</th>\n",
       "      <td>(MARK ANDREW, undervote, undervote)</td>\n",
       "      <td>3864</td>\n",
       "    </tr>\n",
       "    <tr>\n",
       "      <th>1</th>\n",
       "      <td>(BETSY HODGES, MARK ANDREW, DON SAMUELS)</td>\n",
       "      <td>3309</td>\n",
       "    </tr>\n",
       "    <tr>\n",
       "      <th>2</th>\n",
       "      <td>(BETSY HODGES, DON SAMUELS, MARK ANDREW)</td>\n",
       "      <td>3031</td>\n",
       "    </tr>\n",
       "    <tr>\n",
       "      <th>3</th>\n",
       "      <td>(MARK ANDREW, BETSY HODGES, DON SAMUELS)</td>\n",
       "      <td>2502</td>\n",
       "    </tr>\n",
       "    <tr>\n",
       "      <th>4</th>\n",
       "      <td>(BETSY HODGES, undervote, undervote)</td>\n",
       "      <td>2212</td>\n",
       "    </tr>\n",
       "  </tbody>\n",
       "</table>\n",
       "</div>"
      ],
      "text/plain": [
       "  Ballots                                    Weight\n",
       "0       (MARK ANDREW, undervote, undervote)  3864  \n",
       "1  (BETSY HODGES, MARK ANDREW, DON SAMUELS)  3309  \n",
       "2  (BETSY HODGES, DON SAMUELS, MARK ANDREW)  3031  \n",
       "3  (MARK ANDREW, BETSY HODGES, DON SAMUELS)  2502  \n",
       "4      (BETSY HODGES, undervote, undervote)  2212  "
      ]
     },
     "execution_count": 3,
     "metadata": {},
     "output_type": "execute_result"
    }
   ],
   "source": [
    "# returns a list of unique candidates\n",
    "print(minneapolis_profile.get_candidates())\n",
    "\n",
    "# returns the top n ballots\n",
    "minneapolis_profile.head(n=5)"
   ]
  },
  {
   "cell_type": "markdown",
   "id": "8ea9c390",
   "metadata": {},
   "source": [
    "Woah, that's a little funky! There's a candidate called 'undervote','overvote', and 'UWI'. In this dataset, 'undervote' says that someone left a ranking blank. The 'overvote' candidate arises when someone lists two candidates in one ranking, and in our data set, we lose any knowledge of their actual preference. 'UWI' stands for unregistered write-in.\n",
    "\n",
    "It's really important to think carefully about how you want to handle cleaning up the ballots, as this depends entirely on the context of a given election. For now, let's assume that we want to get rid of the 'undervote', 'overvote', and 'UWI' candidates. The function `remove_noncands` will do this for us. If a ballot was \"A B undervote\", it would now be \"A B\". If a ballot was \"A UWI B\" it would now be \"A B\" as well. This might not be how you want to handle such things, but for now let's go with it. "
   ]
  },
  {
   "cell_type": "code",
   "execution_count": 4,
   "id": "c31d6334",
   "metadata": {},
   "outputs": [
    {
     "name": "stdout",
     "output_type": "stream",
     "text": [
      "['NEAL BAXTER', 'JAYMIE KELLY', 'MIKE GOULD', 'CHRISTOPHER ROBIN ZIMMERMAN', 'GREGG A. IVERSON', 'DAN COHEN', 'JOHN LESLIE HARTWIG', 'ALICIA K. BENNETT', 'CYD GORMAN', 'BILL KAHN', 'RAHN V. WORKCUFF', 'MERRILL ANDERSON', 'CAPTAIN JACK SPARROW', 'CAM WINTON', 'STEPHANIE WOODRUFF', 'EDMUND BERNARD BRUYERE', 'JAMES EVERETT', 'BETSY HODGES', 'JAMES \"JIMMY\" L. STROUD, JR.', 'DOUG MANN', 'CHRISTOPHER CLARK', 'TROY BENJEGERDES', 'JACKIE CHERRYHOMES', 'BOB FINE', 'JOHN CHARLES WILSON', 'DON SAMUELS', 'JEFFREY ALAN WAGNER', 'KURTIS W. HANNA', 'JOSHUA REA', 'MARK ANDREW', 'OLE SAVIOR', 'MARK V ANDERSON', 'ABDUL M RAHAMAN \"THE ROCK\"', 'TONY LANE', 'BOB \"AGAIN\" CARNEY JR']\n"
     ]
    }
   ],
   "source": [
    "minneapolis_profile = remove_noncands(minneapolis_profile, [\"undervote\", \"overvote\", \"UWI\"])\n",
    "print(minneapolis_profile.get_candidates())"
   ]
  },
  {
   "cell_type": "markdown",
   "id": "66516232",
   "metadata": {},
   "source": [
    "Alright, things are looking a bit cleaner. Let's examine some of the ballots."
   ]
  },
  {
   "cell_type": "code",
   "execution_count": 5,
   "id": "cb055552",
   "metadata": {},
   "outputs": [
    {
     "data": {
      "text/html": [
       "<div>\n",
       "<style scoped>\n",
       "    .dataframe tbody tr th:only-of-type {\n",
       "        vertical-align: middle;\n",
       "    }\n",
       "\n",
       "    .dataframe tbody tr th {\n",
       "        vertical-align: top;\n",
       "    }\n",
       "\n",
       "    .dataframe thead th {\n",
       "        text-align: right;\n",
       "    }\n",
       "</style>\n",
       "<table border=\"1\" class=\"dataframe\">\n",
       "  <thead>\n",
       "    <tr style=\"text-align: left;\">\n",
       "      <th></th>\n",
       "      <th>Ballots</th>\n",
       "      <th>Weight</th>\n",
       "      <th>Voter Share</th>\n",
       "    </tr>\n",
       "  </thead>\n",
       "  <tbody>\n",
       "    <tr>\n",
       "      <th>0</th>\n",
       "      <td>(MARK ANDREW,)</td>\n",
       "      <td>3864</td>\n",
       "      <td>0.048678</td>\n",
       "    </tr>\n",
       "    <tr>\n",
       "      <th>1</th>\n",
       "      <td>(BETSY HODGES, MARK ANDREW, DON SAMUELS)</td>\n",
       "      <td>3309</td>\n",
       "      <td>0.041687</td>\n",
       "    </tr>\n",
       "    <tr>\n",
       "      <th>2</th>\n",
       "      <td>(BETSY HODGES, DON SAMUELS, MARK ANDREW)</td>\n",
       "      <td>3031</td>\n",
       "      <td>0.038184</td>\n",
       "    </tr>\n",
       "    <tr>\n",
       "      <th>3</th>\n",
       "      <td>(MARK ANDREW, BETSY HODGES, DON SAMUELS)</td>\n",
       "      <td>2502</td>\n",
       "      <td>0.031520</td>\n",
       "    </tr>\n",
       "    <tr>\n",
       "      <th>4</th>\n",
       "      <td>(BETSY HODGES,)</td>\n",
       "      <td>2212</td>\n",
       "      <td>0.027867</td>\n",
       "    </tr>\n",
       "  </tbody>\n",
       "</table>\n",
       "</div>"
      ],
      "text/plain": [
       "  Ballots                                    Weight  Voter Share\n",
       "0                            (MARK ANDREW,)  3864    0.048678   \n",
       "1  (BETSY HODGES, MARK ANDREW, DON SAMUELS)  3309    0.041687   \n",
       "2  (BETSY HODGES, DON SAMUELS, MARK ANDREW)  3031    0.038184   \n",
       "3  (MARK ANDREW, BETSY HODGES, DON SAMUELS)  2502    0.031520   \n",
       "4                           (BETSY HODGES,)  2212    0.027867   "
      ]
     },
     "execution_count": 5,
     "metadata": {},
     "output_type": "execute_result"
    }
   ],
   "source": [
    "# returns the top n ballots\n",
    "minneapolis_profile.head(n=5, percents = True)"
   ]
  },
  {
   "cell_type": "markdown",
   "id": "b93c9a78",
   "metadata": {},
   "source": [
    "We can similarly print the bottom $n$ ballots. Here we toggle the optional `percents` and `totals` arguments, which will show us the fraction of the total vote, as well as sum up the weights."
   ]
  },
  {
   "cell_type": "code",
   "execution_count": 14,
   "id": "e48de9fc",
   "metadata": {},
   "outputs": [
    {
     "data": {
      "text/html": [
       "<div>\n",
       "<style scoped>\n",
       "    .dataframe tbody tr th:only-of-type {\n",
       "        vertical-align: middle;\n",
       "    }\n",
       "\n",
       "    .dataframe tbody tr th {\n",
       "        vertical-align: top;\n",
       "    }\n",
       "\n",
       "    .dataframe thead th {\n",
       "        text-align: right;\n",
       "    }\n",
       "</style>\n",
       "<table border=\"1\" class=\"dataframe\">\n",
       "  <thead>\n",
       "    <tr style=\"text-align: left;\">\n",
       "      <th></th>\n",
       "      <th>Ballots</th>\n",
       "      <th>Weight</th>\n",
       "    </tr>\n",
       "  </thead>\n",
       "  <tbody>\n",
       "    <tr>\n",
       "      <th>0</th>\n",
       "      <td>(MARK ANDREW,)</td>\n",
       "      <td>3864</td>\n",
       "    </tr>\n",
       "    <tr>\n",
       "      <th>1</th>\n",
       "      <td>(BETSY HODGES, MARK ANDREW, DON SAMUELS)</td>\n",
       "      <td>3309</td>\n",
       "    </tr>\n",
       "    <tr>\n",
       "      <th>2</th>\n",
       "      <td>(BETSY HODGES, DON SAMUELS, MARK ANDREW)</td>\n",
       "      <td>3031</td>\n",
       "    </tr>\n",
       "    <tr>\n",
       "      <th>3</th>\n",
       "      <td>(MARK ANDREW, BETSY HODGES, DON SAMUELS)</td>\n",
       "      <td>2502</td>\n",
       "    </tr>\n",
       "    <tr>\n",
       "      <th>4</th>\n",
       "      <td>(BETSY HODGES,)</td>\n",
       "      <td>2212</td>\n",
       "    </tr>\n",
       "    <tr>\n",
       "      <th>Totals</th>\n",
       "      <td></td>\n",
       "      <td>14918</td>\n",
       "    </tr>\n",
       "  </tbody>\n",
       "</table>\n",
       "</div>"
      ],
      "text/plain": [
       "       Ballots                                    Weight\n",
       "0                                 (MARK ANDREW,)   3864 \n",
       "1       (BETSY HODGES, MARK ANDREW, DON SAMUELS)   3309 \n",
       "2       (BETSY HODGES, DON SAMUELS, MARK ANDREW)   3031 \n",
       "3       (MARK ANDREW, BETSY HODGES, DON SAMUELS)   2502 \n",
       "4                                (BETSY HODGES,)   2212 \n",
       "Totals                                            14918 "
      ]
     },
     "execution_count": 14,
     "metadata": {},
     "output_type": "execute_result"
    }
   ],
   "source": [
    "# returns the bottom n ballots\n",
    "minneapolis_profile.tail(n=5, percents = False, totals = True)"
   ]
  },
  {
   "cell_type": "markdown",
   "id": "2fd7696e",
   "metadata": {},
   "source": [
    "There are a few other methods you can read about in the documentation, but now let's run an election!\n",
    "\n",
    "Just because we have a collection of ballots does not mean we have a winner. To convert a PreferenceProfile into a winner (or winners), we need to choose a method of election. The mayoral race was conducted as a single winner IRV election, which in `votekit` is equivalent to a STV election with one seat. The transfer method tells us what to do if someone has a surplus of votes over the winning quota (which by default is the Droop quota). "
   ]
  },
  {
   "cell_type": "code",
   "execution_count": 6,
   "id": "c38b50bf",
   "metadata": {},
   "outputs": [],
   "source": [
    "minn_election = STV(profile = minneapolis_profile, transfer = fractional_transfer, seats = 1)"
   ]
  },
  {
   "cell_type": "code",
   "execution_count": 7,
   "id": "72248cb0",
   "metadata": {},
   "outputs": [
    {
     "data": {
      "text/plain": [
       "                   Candidate     Status  Round\n",
       "                BETSY HODGES    Elected     35\n",
       "                 MARK ANDREW Eliminated     34\n",
       "                 DON SAMUELS Eliminated     33\n",
       "                  CAM WINTON Eliminated     32\n",
       "          JACKIE CHERRYHOMES Eliminated     31\n",
       "                    BOB FINE Eliminated     30\n",
       "                   DAN COHEN Eliminated     29\n",
       "          STEPHANIE WOODRUFF Eliminated     28\n",
       "             MARK V ANDERSON Eliminated     27\n",
       "                   DOUG MANN Eliminated     26\n",
       "                  OLE SAVIOR Eliminated     25\n",
       "               JAMES EVERETT Eliminated     24\n",
       "           ALICIA K. BENNETT Eliminated     23\n",
       "  ABDUL M RAHAMAN \"THE ROCK\" Eliminated     22\n",
       "        CAPTAIN JACK SPARROW Eliminated     21\n",
       "           CHRISTOPHER CLARK Eliminated     20\n",
       "                   TONY LANE Eliminated     19\n",
       "                JAYMIE KELLY Eliminated     18\n",
       "                  MIKE GOULD Eliminated     17\n",
       "             KURTIS W. HANNA Eliminated     16\n",
       " CHRISTOPHER ROBIN ZIMMERMAN Eliminated     15\n",
       "         JEFFREY ALAN WAGNER Eliminated     14\n",
       "                 NEAL BAXTER Eliminated     13\n",
       "            TROY BENJEGERDES Eliminated     12\n",
       "            GREGG A. IVERSON Eliminated     11\n",
       "            MERRILL ANDERSON Eliminated     10\n",
       "                  JOSHUA REA Eliminated      9\n",
       "                   BILL KAHN Eliminated      8\n",
       "         JOHN LESLIE HARTWIG Eliminated      7\n",
       "      EDMUND BERNARD BRUYERE Eliminated      6\n",
       "JAMES \"JIMMY\" L. STROUD, JR. Eliminated      5\n",
       "            RAHN V. WORKCUFF Eliminated      4\n",
       "       BOB \"AGAIN\" CARNEY JR Eliminated      3\n",
       "                  CYD GORMAN Eliminated      2\n",
       "         JOHN CHARLES WILSON Eliminated      1"
      ]
     },
     "execution_count": 7,
     "metadata": {},
     "output_type": "execute_result"
    }
   ],
   "source": [
    "# the run_election method prints a dataframe showing the order in which candidates are eliminated under STV\n",
    "minn_election.run_election()"
   ]
  },
  {
   "cell_type": "markdown",
   "id": "4c735c11",
   "metadata": {},
   "source": [
    "And there you go! You've created a PreferenceProfile from real election data, done some cleaning, and then conducted an STV election. You can look at the [offical results](https://vote.minneapolismn.gov/results-data/election-results/2013/mayor/) and confirm that `votekit` elected the same candidate as in the real 2013 election."
   ]
  }
 ],
 "metadata": {
  "kernelspec": {
   "display_name": "votekit",
   "language": "python",
   "name": "votekit"
  },
  "language_info": {
   "codemirror_mode": {
    "name": "ipython",
    "version": 3
   },
   "file_extension": ".py",
   "mimetype": "text/x-python",
   "name": "python",
   "nbconvert_exporter": "python",
   "pygments_lexer": "ipython3",
   "version": "3.11.5"
  }
 },
 "nbformat": 4,
 "nbformat_minor": 5
}
