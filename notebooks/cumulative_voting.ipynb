{
 "cells": [
  {
   "cell_type": "code",
   "execution_count": 1,
   "metadata": {},
   "outputs": [],
   "source": [
    "import votekit.ballot_generator as bg\n",
    "from votekit.ballot import CumulativeBallot\n",
    "\n",
    "from votekit.elections import Cumulative\n",
    "from votekit.pref_profile import PreferenceProfile"
   ]
  },
  {
   "cell_type": "markdown",
   "metadata": {},
   "source": [
    "# Cumulative Voting\n",
    "\n",
    "In a cumulative election, voters have $m$ votes to fill $m$ seats. They are allowed to cast these votes on any candidate, including multiple votes for one candidate. Then, the candidates with the $m$ highest vote totals win. We still model this using a preference interval, except now we just sample with replacement (instead of without replacement as in the PL model)."
   ]
  },
  {
   "cell_type": "code",
   "execution_count": 7,
   "metadata": {},
   "outputs": [],
   "source": [
    "candidates = [\"A\", \"B\", \"C\"]\n",
    "pref_interval_by_bloc = {\"R\": {\"A\": .3, \"B\":.6, \"C\":.1}}\n",
    "bloc_voter_prop = {\"R\":1}\n",
    "\n",
    "cumulative = bg.Cumulative(candidates = candidates, pref_interval_by_bloc = pref_interval_by_bloc,\n",
    "                           bloc_voter_prop=bloc_voter_prop)\n",
    "\n"
   ]
  },
  {
   "cell_type": "code",
   "execution_count": 10,
   "metadata": {},
   "outputs": [
    {
     "name": "stdout",
     "output_type": "stream",
     "text": [
      "  Ballots  Weight\n",
      "(B, B, A)      30\n",
      "(B, B, B)      22\n",
      "(B, A, A)      22\n",
      "(B, B, C)      13\n",
      "(C, A, B)       8\n",
      "(C, A, A)       2\n",
      "(B, C, C)       1\n",
      "(C, C, A)       1\n",
      "(A, A, A)       1\n"
     ]
    }
   ],
   "source": [
    "cumulative_profile = cumulative.generate_profile(number_of_ballots=100)\n",
    "cumulative_election = Cumulative(profile = cumulative_profile,\n",
    "                                 seats = 2)\n",
    "\n",
    "print(cumulative_profile)"
   ]
  },
  {
   "cell_type": "code",
   "execution_count": 9,
   "metadata": {},
   "outputs": [
    {
     "data": {
      "text/plain": [
       "Candidate     Status  Round\n",
       "        B    Elected      1\n",
       "        A    Elected      1\n",
       "        C Eliminated      1"
      ]
     },
     "execution_count": 9,
     "metadata": {},
     "output_type": "execute_result"
    }
   ],
   "source": [
    "cumulative_election.run_election()"
   ]
  },
  {
   "cell_type": "markdown",
   "metadata": {},
   "source": [
    "Double check the computation above!\n",
    "\n",
    "\n",
    "Now what happens in the case of ties? As currently coded, `votekit` takes all the tied candidates and randomly permutes them."
   ]
  },
  {
   "cell_type": "code",
   "execution_count": 13,
   "metadata": {},
   "outputs": [],
   "source": [
    "tied_cumulative_profile = PreferenceProfile(ballots = [CumulativeBallot(multi_votes=[\"A\", \"B\", \"C\"])],\n",
    "                                       candidates = [\"A\", \"B\", \"C\"])"
   ]
  },
  {
   "cell_type": "code",
   "execution_count": 15,
   "metadata": {},
   "outputs": [
    {
     "name": "stdout",
     "output_type": "stream",
     "text": [
      "There was a tie between ['A', 'B', 'C'].\n",
      "The tie was broken by randomly permuting the candidates: ['C', 'A', 'B'].\n"
     ]
    },
    {
     "data": {
      "text/plain": [
       "Candidate     Status  Round\n",
       "        C    Elected      1\n",
       "        A    Elected      1\n",
       "        B Eliminated      1"
      ]
     },
     "execution_count": 15,
     "metadata": {},
     "output_type": "execute_result"
    }
   ],
   "source": [
    "cumulative_election = Cumulative(profile = tied_cumulative_profile,\n",
    "                                 seats = 2)\n",
    "cumulative_election.run_election()"
   ]
  }
 ],
 "metadata": {
  "kernelspec": {
   "display_name": "votekit",
   "language": "python",
   "name": "votekit"
  },
  "language_info": {
   "codemirror_mode": {
    "name": "ipython",
    "version": 3
   },
   "file_extension": ".py",
   "mimetype": "text/x-python",
   "name": "python",
   "nbconvert_exporter": "python",
   "pygments_lexer": "ipython3",
   "version": "3.11.5"
  }
 },
 "nbformat": 4,
 "nbformat_minor": 2
}
