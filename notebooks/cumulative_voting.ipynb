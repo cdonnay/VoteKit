{
 "cells": [
  {
   "cell_type": "markdown",
   "metadata": {},
   "source": [
    "# `PointBallot`\n",
    "While some elections rely on candidate rankings, others rely on candidate scorings, such as Borda, Cumulative, or approval voting. The `PointBallot` class stores such scoring information as a dictionary, where each key is a candidate and each value is the number of points given to that candidate by the voter.\n",
    "\n",
    "The `points` attribute can be either a list with multiplicity, or a dictionary."
   ]
  },
  {
   "cell_type": "code",
   "execution_count": 1,
   "metadata": {},
   "outputs": [],
   "source": [
    "import votekit.ballot_generator as bg\n",
    "from votekit.ballot import PointBallot\n",
    "\n",
    "from votekit.elections import Cumulative\n",
    "from votekit.pref_profile import PreferenceProfile\n",
    "from fractions import Fraction"
   ]
  },
  {
   "cell_type": "code",
   "execution_count": 2,
   "metadata": {},
   "outputs": [
    {
     "name": "stdout",
     "output_type": "stream",
     "text": [
      "{'A': 2, 'B': 1} with weight 1\n",
      "{'A': 2, 'B': 1} with weight 3\n"
     ]
    }
   ],
   "source": [
    "print(PointBallot(points=[\"A\", \"B\", \"A\"]))\n",
    "print(PointBallot(points={\"A\":2, \"B\":1}, weight = Fraction(3,1)))"
   ]
  },
  {
   "cell_type": "markdown",
   "metadata": {},
   "source": [
    "# Cumulative Voting\n",
    "\n",
    "In a cumulative election, voters have $m$ votes to fill $m$ seats. They are allowed to cast these votes on any candidate, including multiple votes for one candidate. Then, the candidates with the $m$ highest vote totals win. We still model this using a preference interval, except now we just sample with replacement (instead of without replacement as in the PL model)."
   ]
  },
  {
   "cell_type": "code",
   "execution_count": 3,
   "metadata": {},
   "outputs": [],
   "source": [
    "candidates = [\"A\", \"B\", \"C\"]\n",
    "pref_interval_by_bloc = {\"R\": {\"A\": .3, \"B\":.6, \"C\":.1}}\n",
    "bloc_voter_prop = {\"R\":1}\n",
    "num_seats = 2\n",
    "\n",
    "cumulative = bg.Cumulative( num_votes=num_seats, candidates = candidates, pref_interval_by_bloc = pref_interval_by_bloc,\n",
    "                           bloc_voter_prop=bloc_voter_prop)\n",
    "\n"
   ]
  },
  {
   "cell_type": "code",
   "execution_count": 7,
   "metadata": {},
   "outputs": [
    {
     "name": "stdout",
     "output_type": "stream",
     "text": [
      "10\n"
     ]
    }
   ],
   "source": [
    "cumulative_profile = cumulative.generate_profile(number_of_ballots=10)\n",
    "cumulative_election = Cumulative(profile = cumulative_profile,\n",
    "                                 seats = num_seats)\n",
    "\n",
    "print(cumulative_profile)"
   ]
  },
  {
   "cell_type": "code",
   "execution_count": 13,
   "metadata": {},
   "outputs": [
    {
     "data": {
      "text/plain": [
       "Candidate     Status  Round\n",
       "        B    Elected      1\n",
       "        A    Elected      1\n",
       "        C Eliminated      1"
      ]
     },
     "execution_count": 13,
     "metadata": {},
     "output_type": "execute_result"
    }
   ],
   "source": [
    "cumulative_election.run_election()"
   ]
  },
  {
   "cell_type": "markdown",
   "metadata": {},
   "source": [
    "Double check the computation above!\n",
    "\n",
    "\n",
    "Now what happens in the case of ties? As currently coded, `votekit` takes all the tied candidates and randomly permutes them."
   ]
  },
  {
   "cell_type": "code",
   "execution_count": 14,
   "metadata": {},
   "outputs": [],
   "source": [
    "tied_cumulative_profile = PreferenceProfile(ballots = [PointBallot(points=[\"A\", \"B\", \"C\"])],\n",
    "                                       candidates = [\"A\", \"B\", \"C\"])"
   ]
  },
  {
   "cell_type": "code",
   "execution_count": 16,
   "metadata": {},
   "outputs": [
    {
     "name": "stdout",
     "output_type": "stream",
     "text": [
      "A tie was broken.\n"
     ]
    },
    {
     "data": {
      "text/plain": [
       "Candidate     Status  Round\n",
       "        C    Elected      1\n",
       "        B    Elected      1\n",
       "        A Eliminated      1"
      ]
     },
     "execution_count": 16,
     "metadata": {},
     "output_type": "execute_result"
    }
   ],
   "source": [
    "cumulative_election = Cumulative(profile = tied_cumulative_profile,\n",
    "                                 seats = num_seats)\n",
    "cumulative_election.run_election()"
   ]
  },
  {
   "cell_type": "code",
   "execution_count": null,
   "metadata": {},
   "outputs": [],
   "source": []
  }
 ],
 "metadata": {
  "kernelspec": {
   "display_name": "votekit",
   "language": "python",
   "name": "votekit"
  },
  "language_info": {
   "codemirror_mode": {
    "name": "ipython",
    "version": 3
   },
   "file_extension": ".py",
   "mimetype": "text/x-python",
   "name": "python",
   "nbconvert_exporter": "python",
   "pygments_lexer": "ipython3",
   "version": "3.11.5"
  }
 },
 "nbformat": 4,
 "nbformat_minor": 2
}
