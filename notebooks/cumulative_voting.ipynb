{
 "cells": [
  {
   "cell_type": "code",
   "execution_count": 1,
   "metadata": {},
   "outputs": [],
   "source": [
    "import votekit.ballot_generator as bg\n",
    "from votekit.ballot import CumulativeBallot\n",
    "# from fractions import Fraction\n",
    "from multiset import Multiset, FrozenMultiset"
   ]
  },
  {
   "cell_type": "code",
   "execution_count": 2,
   "metadata": {},
   "outputs": [],
   "source": [
    "candidates = [\"A\", \"B\", \"C\"]\n",
    "# pref_interval_by_bloc = {\"D\": {\"A\": .4, \"B\":.4, \"C\":.2}}\n",
    "pref_interval_by_bloc = {\"D\": {\"A\": .4, \"B\":.6, \"C\":0}}\n",
    "\n",
    "# pref_interval_by_bloc = {\"D\": {\"A\": .9, \"B\":.05, \"C\":.05},\n",
    "#                          \"R\": {\"A\": .05, \"B\":.05, \"C\":.9}}\n",
    "\n",
    "bloc_voter_prop = {\"D\":1}\n",
    "# bloc_voter_prop = {\"D\":.8,\n",
    "#                    \"R\": .2}\n",
    "\n",
    "cumulative = bg.Cumulative(candidates = candidates, pref_interval_by_bloc = pref_interval_by_bloc,\n",
    "                           bloc_voter_prop=bloc_voter_prop)\n",
    "\n",
    "standard = bg.ImpartialCulture(candidates = candidates)"
   ]
  },
  {
   "cell_type": "code",
   "execution_count": 3,
   "metadata": {},
   "outputs": [
    {
     "name": "stdout",
     "output_type": "stream",
     "text": [
      "[{A, B} with weight 1, {B, A} with weight 1, {A, A} with weight 1, {B, B} with weight 1, {A, A} with weight 1, {B, A} with weight 1, {B, B} with weight 1, {A, B} with weight 1, {B, B} with weight 1, {A, B} with weight 1]\n",
      "<class 'votekit.ballot.CumulativeBallot'>\n"
     ]
    }
   ],
   "source": [
    "standard_profile = standard.generate_profile(number_of_ballots=10)\n",
    "cumulative_profile = cumulative.generate_profile(number_of_ballots=10)\n"
   ]
  },
  {
   "cell_type": "code",
   "execution_count": 4,
   "metadata": {},
   "outputs": [
    {
     "data": {
      "text/plain": [
       "Ballots  Weight\n",
       " (A, B)       5\n",
       " (B, B)       3\n",
       " (A, A)       2"
      ]
     },
     "execution_count": 4,
     "metadata": {},
     "output_type": "execute_result"
    }
   ],
   "source": [
    "cumulative_profile"
   ]
  },
  {
   "cell_type": "code",
   "execution_count": 5,
   "metadata": {},
   "outputs": [
    {
     "data": {
      "text/plain": [
       "True"
      ]
     },
     "execution_count": 5,
     "metadata": {},
     "output_type": "execute_result"
    }
   ],
   "source": [
    "from multiset import Multiset\n",
    "\n",
    "Multiset(\"AAB\") == Multiset(\"AAB\")"
   ]
  },
  {
   "cell_type": "code",
   "execution_count": 6,
   "metadata": {},
   "outputs": [
    {
     "data": {
      "text/plain": [
       "True"
      ]
     },
     "execution_count": 6,
     "metadata": {},
     "output_type": "execute_result"
    }
   ],
   "source": [
    "CumulativeBallot(multi_votes=[\"A\", \"A\", \"B\"]) == CumulativeBallot(multi_votes=[\"A\", \"A\", \"B\"])"
   ]
  },
  {
   "cell_type": "code",
   "execution_count": 7,
   "metadata": {},
   "outputs": [],
   "source": [
    "ms = Multiset(\"aab\")\n",
    "fms = FrozenMultiset(ms)"
   ]
  },
  {
   "cell_type": "code",
   "execution_count": 8,
   "metadata": {},
   "outputs": [
    {
     "data": {
      "text/plain": [
       "FrozenMultiset({'a': 2, 'b': 1})"
      ]
     },
     "execution_count": 8,
     "metadata": {},
     "output_type": "execute_result"
    }
   ],
   "source": [
    "fms"
   ]
  },
  {
   "cell_type": "code",
   "execution_count": null,
   "metadata": {},
   "outputs": [],
   "source": []
  }
 ],
 "metadata": {
  "kernelspec": {
   "display_name": "votekit",
   "language": "python",
   "name": "votekit"
  },
  "language_info": {
   "codemirror_mode": {
    "name": "ipython",
    "version": 3
   },
   "file_extension": ".py",
   "mimetype": "text/x-python",
   "name": "python",
   "nbconvert_exporter": "python",
   "pygments_lexer": "ipython3",
   "version": "3.11.5"
  }
 },
 "nbformat": 4,
 "nbformat_minor": 2
}
