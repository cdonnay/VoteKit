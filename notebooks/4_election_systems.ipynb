{
  "cells": [
    {
      "cell_type": "markdown",
      "metadata": {
        "id": "XUpNxYs-49Co"
      },
      "source": [
        "# Elections\n",
        "\n",
        "Elections are the systems or algorithms by which a `PreferenceProfile`, or collection of ballots, is converted into an outcome. There are infinitely many different possible election methods, whether the output is a single winner, a set of winners, or a consensus ranking. VoteKit has a host of built-in election methods, as well as the functionality to let you create your own system of election. By the end of this section, you will have been introduced to the STV and Borda elections, learned about the `ElectionState` object, and created your own election type."
      ]
    },
    {
      "cell_type": "markdown",
      "metadata": {
        "id": "4wDDxZZ-BWsY"
      },
      "source": [
        "## STV\n",
        "\n",
        "To start, let's return to the Minneapolis 2013 mayoral race. We first saw this in [previous notebooks](2_real_and_simulated_profiles.html). As a reminder, this election had 35 named candidates running for one seat, and used an IRV election system (which is mathematically equivalent to a single-winner STV election) to choose the winner. Voters were only allowed to rank their top three candidates.\n",
        "\n",
        "Let's load in the **cast vote record** (CVR) from the election, and do all of the same cleaning we did before."
      ]
    },
    {
      "cell_type": "code",
      "execution_count": 1,
      "metadata": {
        "id": "x8PuYJyU26Mm"
      },
      "outputs": [
        {
          "name": "stdout",
          "output_type": "stream",
          "text": [
            "Current Round: 35\n"
          ]
        },
        {
          "data": {
            "text/plain": [
              "                   Candidate     Status  Round\n",
              "                BETSY HODGES    Elected     35\n",
              "                 MARK ANDREW Eliminated     34\n",
              "                 DON SAMUELS Eliminated     33\n",
              "                  CAM WINTON Eliminated     32\n",
              "          JACKIE CHERRYHOMES Eliminated     31\n",
              "                    BOB FINE Eliminated     30\n",
              "                   DAN COHEN Eliminated     29\n",
              "          STEPHANIE WOODRUFF Eliminated     28\n",
              "             MARK V ANDERSON Eliminated     27\n",
              "                   DOUG MANN Eliminated     26\n",
              "                  OLE SAVIOR Eliminated     25\n",
              "               JAMES EVERETT Eliminated     24\n",
              "           ALICIA K. BENNETT Eliminated     23\n",
              "  ABDUL M RAHAMAN \"THE ROCK\" Eliminated     22\n",
              "        CAPTAIN JACK SPARROW Eliminated     21\n",
              "           CHRISTOPHER CLARK Eliminated     20\n",
              "                   TONY LANE Eliminated     19\n",
              "                JAYMIE KELLY Eliminated     18\n",
              "                  MIKE GOULD Eliminated     17\n",
              "             KURTIS W. HANNA Eliminated     16\n",
              " CHRISTOPHER ROBIN ZIMMERMAN Eliminated     15\n",
              "         JEFFREY ALAN WAGNER Eliminated     14\n",
              "                 NEAL BAXTER Eliminated     13\n",
              "            TROY BENJEGERDES Eliminated     12\n",
              "            GREGG A. IVERSON Eliminated     11\n",
              "            MERRILL ANDERSON Eliminated     10\n",
              "                  JOSHUA REA Eliminated      9\n",
              "                   BILL KAHN Eliminated      8\n",
              "         JOHN LESLIE HARTWIG Eliminated      7\n",
              "      EDMUND BERNARD BRUYERE Eliminated      6\n",
              "JAMES \"JIMMY\" L. STROUD, JR. Eliminated      5\n",
              "            RAHN V. WORKCUFF Eliminated      4\n",
              "       BOB \"AGAIN\" CARNEY JR Eliminated      3\n",
              "                  CYD GORMAN Eliminated      2\n",
              "         JOHN CHARLES WILSON Eliminated      1"
            ]
          },
          "execution_count": 1,
          "metadata": {},
          "output_type": "execute_result"
        }
      ],
      "source": [
        "from votekit.cvr_loaders import load_csv\n",
        "from votekit.elections import STV, fractional_transfer\n",
        "from votekit.cleaning import remove_noncands\n",
        "\n",
        "minneapolis_profile = load_csv(\"mn_2013_cast_vote_record.csv\")\n",
        "minneapolis_profile = remove_noncands(minneapolis_profile, \n",
        "                                      [\"undervote\", \"overvote\", \"UWI\"])\n",
        "\n",
        "minn_election = STV(profile = minneapolis_profile, \n",
        "                    transfer = fractional_transfer, \n",
        "                    seats = 1)\n",
        "minn_election.run_election()"
      ]
    },
    {
      "cell_type": "markdown",
      "metadata": {
        "id": "1QFRhOl7XX7P"
      },
      "source": [
        "First, what is this showing?  Generally, the winners are listed in the order they were elected, from the top down.  Eliminated candidates are filled in in the order they were eliminated, bottom-up.  If any candidates are still remaining without having been designated elected or eliminated, they are in a middle category called `Remaining`.  Ties are broken by strength, meaning for instance that if 3 candidates are remaining at the end, they are listed in the order of their first-place in the final election state.  This means that this output can be thought of as an aggregate ranking vector produced by applying the election method to the voters' ranking vectors.  "
      ]
    },
    {
      "cell_type": "markdown",
      "metadata": {
        "id": "oICFtPmp6E8S"
      },
      "source": [
        "So what exactly is happening in this STV election? STV stands for \"single transferable vote.\" Voters cast ranked choice ballots. A threshold is set of how much support is required for election; if a candidate crosses the threshold, they are designated as a winner. The threshold in VoteKit defaults to something called the **Droop quota**. If there are $N$ voters and $m$ seats, then Droop quota is computed as $T=\\lfloor N/(m+1)\\rfloor +1$. Another option is the **Hare quota**, which is just $T=N/m$, which is a little bit larger. Generally, all that is needed of a threshold is that it can't be the case that $m+1$ candidates exceed it.\n",
        "\n",
        "In the first round, the first-place votes for each candidate are tallied. If candidate $A$ crosses the threshold, they are elected. If there were surplus votes, then the ballots with $A$ in first place are transfered, with appropriately reduced weight, to the next choice of those voters. If another candidate receives enough transfered support to cross the threshold, they are elected. If no candidate does, the candidate with the fewest first-place votes is removed from all ballots, and their votes are transfered with full weight. This repeats until all seats are filled.\n",
        "\n",
        "Let's work out a small example where it is easier to see how STV works. We will use a fractional transfer rule. If the threshold is $T$ and a candidate received $rT$ votes in a given round, where $r>1$, then the excess is $(r-1)T$ and so ballots are now \"discounted\" to have new weight $(r-1)/r$. For instance if the candidate received 150 votes but only needed 100, there would be 50 \"excess\" votes.  Instead of randomly picking 50 out of 150 ballots to transfer, we transfer them all with a reduced weight of 50/150, or 1/3.  Here is a [link](https://mggg.org/publications/political-geometry/20-WeighillDuchin.pdf) to a more substantial explainer about ranked choice.\n",
        "\n",
        "In our example, suppose there are $N=23$ voters and $n=7$ candidates running for $m=3$ seats with the following profile."
      ]
    },
    {
      "cell_type": "code",
      "execution_count": 2,
      "metadata": {
        "id": "Vy_kQAL86EVn"
      },
      "outputs": [
        {
          "name": "stdout",
          "output_type": "stream",
          "text": [
            "  Ballots Weight\n",
            "(B, C, D)      8\n",
            "   (F, G)      4\n",
            "   (A, B)      3\n",
            "   (D, E)      3\n",
            "(G, E, F)      3\n",
            "(C, A, B)      1\n",
            "(E, D, F)      1\n",
            "Number of ballots: 23\n",
            "Number of candidates: 7\n",
            "Threshold: 6\n"
          ]
        }
      ],
      "source": [
        "from votekit.ballot import Ballot\n",
        "from votekit.pref_profile import PreferenceProfile\n",
        "\n",
        "candidates = [\"A\", \"B\", \"C\", \"D\", \"E\", \"F\", \"G\"]\n",
        "\n",
        "ballots = [Ballot(ranking = [{\"A\"}, {\"B\"}], weight = 3),\n",
        "           Ballot(ranking = [{\"B\"}, {\"C\"}, {\"D\"}], weight = 8),\n",
        "           Ballot(ranking = [{\"C\"}, {\"A\"}, {\"B\"}], weight = 1),\n",
        "           Ballot(ranking = [{\"D\"}, {\"E\"}], weight = 3),\n",
        "           Ballot(ranking = [{\"E\"}, {\"D\"}, {\"F\"}], weight = 1),\n",
        "           Ballot(ranking = [{\"F\"}, {\"G\"}], weight = 4),\n",
        "           Ballot(ranking = [{\"G\"}, {\"E\"}, {\"F\"}], weight = 3)]\n",
        "\n",
        "profile = PreferenceProfile(ballots= ballots)\n",
        "\n",
        "print(profile)\n",
        "print(\"Number of ballots:\", profile.num_ballots())\n",
        "print(\"Number of candidates:\", len(profile.get_candidates()))\n",
        "\n",
        "election = STV(profile = profile, transfer = fractional_transfer, seats = 3)\n",
        "\n",
        "print(\"Threshold:\", election.threshold)\n"
      ]
    },
    {
      "cell_type": "markdown",
      "metadata": {
        "id": "4HcKnU3h9apD"
      },
      "source": [
        "What this code block did is create an `election` object that lets us access all the information, round-by-round, about what would happen under the designated election method.\n",
        "\n",
        "Now we can review it step by step instead of all at once. Just from a brief glance at the profile and threshold, we see that candidate B should be elected in the first round. Let's see this happen in two ways.\n",
        "\n",
        "First, observe the first-place votes for each candidate."
      ]
    },
    {
      "cell_type": "code",
      "execution_count": 3,
      "metadata": {
        "id": "jCPRgHTsxO4B"
      },
      "outputs": [
        {
          "name": "stdout",
          "output_type": "stream",
          "text": [
            "{'B': Fraction(8, 1), 'F': Fraction(4, 1), 'D': Fraction(3, 1), 'G': Fraction(3, 1), 'A': Fraction(3, 1), 'E': Fraction(1, 1), 'C': Fraction(1, 1)}\n"
          ]
        }
      ],
      "source": [
        "from votekit.utils import first_place_votes\n",
        "print(first_place_votes(election.state.profile))"
      ]
    },
    {
      "cell_type": "markdown",
      "metadata": {
        "id": "EAIwmPkIxjx8"
      },
      "source": [
        "We can see from this that only B is over the threshold.  The other way we can see who wins in the first round is by running just one step of the election.\n",
        "\n"
      ]
    },
    {
      "cell_type": "code",
      "execution_count": 4,
      "metadata": {
        "id": "WXJs3HjQ5zV4"
      },
      "outputs": [
        {
          "name": "stdout",
          "output_type": "stream",
          "text": [
            "Current Round: 1\n",
            "Candidate                       Status  Round\n",
            "        B                      Elected      1\n",
            "        F                    Remaining      1\n",
            "        G Remaining (tie with C, D, A)      1\n",
            "        C Remaining (tie with G, D, A)      1\n",
            "        D Remaining (tie with G, C, A)      1\n",
            "        A Remaining (tie with G, C, D)      1\n",
            "        E                    Remaining      1\n"
          ]
        }
      ],
      "source": [
        "print(election.run_step())"
      ]
    },
    {
      "cell_type": "markdown",
      "metadata": {
        "id": "z2o_K_rw99Dl"
      },
      "source": [
        "$B$ passed the threshold by 2 votes with a total of 8, so the $B,C,D$ ballot is going to have $B$ removed and be given weight $2/8$ (excess/total) times its previous weight of 8. To check this, election objects have an `ElectionState` class within them that stores this information."
      ]
    },
    {
      "cell_type": "markdown",
      "metadata": {
        "id": "SZomTP8n6z5a"
      },
      "source": [
        "Run this code block a few times, and you're stepping through the rounds of the election one at a time.  However, once you run the block, the previous state of the election is overwritten.\n",
        "To restore a state of the election, you can use the following code."
      ]
    },
    {
      "cell_type": "code",
      "execution_count": 5,
      "metadata": {
        "id": "dG4sLNth67LM"
      },
      "outputs": [
        {
          "name": "stdout",
          "output_type": "stream",
          "text": [
            "Round 5 state Current Round: 5\n",
            "Candidate     Status  Round\n",
            "        B    Elected      1\n",
            "        F    Elected      4\n",
            "        D  Remaining      5\n",
            "        C  Remaining      5\n",
            "        A Eliminated      5\n",
            "        G Eliminated      3\n",
            "        E Eliminated      2\n",
            "\n",
            "Ground state Current Round: 0\n",
            "Empty DataFrame\n",
            "Columns: [Candidate, Status, Round]\n",
            "Index: []\n",
            "\n"
          ]
        }
      ],
      "source": [
        "# automatically runs steps 1 through 5\n",
        "election.run_to_step(5)\n",
        "print(\"Round 5 state\", election.state)\n",
        "print()\n",
        "\n",
        "# resets the election to its ground state\n",
        "election.reset()\n",
        "print(\"Ground state\", election.state)\n",
        "print()"
      ]
    },
    {
      "cell_type": "markdown",
      "metadata": {
        "id": "a1fnA7ycSd2B"
      },
      "source": [
        "Back to what happened after one step..."
      ]
    },
    {
      "cell_type": "code",
      "execution_count": 6,
      "metadata": {
        "id": "fwyuQ9v798Bp"
      },
      "outputs": [
        {
          "name": "stdout",
          "output_type": "stream",
          "text": [
            "  Ballots Weight\n",
            "   (F, G)      4\n",
            "   (D, E)      3\n",
            "(G, E, F)      3\n",
            "     (A,)      3\n",
            "   (C, D)      2\n",
            "(E, D, F)      1\n",
            "   (C, A)      1\n"
          ]
        }
      ],
      "source": [
        "election.run_to_step(1)\n",
        "\n",
        "print(election.state.profile)"
      ]
    },
    {
      "cell_type": "markdown",
      "metadata": {
        "id": "tlgqYVl8-niT"
      },
      "source": [
        "Look, $B$ is now removed from all ballots, and the $B,C,D$ ballot became $C,D$ with weight 2. No one has enough votes to cross the 6 threshold, so the candidate with the least support will be eliminated---that is candidate $E$, with only one first-place vote."
      ]
    },
    {
      "cell_type": "code",
      "execution_count": 7,
      "metadata": {
        "id": "hjr3-ekT-Kd7"
      },
      "outputs": [
        {
          "name": "stdout",
          "output_type": "stream",
          "text": [
            "{'F': Fraction(4, 1), 'D': Fraction(3, 1), 'G': Fraction(3, 1), 'A': Fraction(3, 1), 'E': Fraction(1, 1), 'C': Fraction(3, 1)}\n",
            "\n",
            "Current Round: 2\n",
            "Candidate                    Status  Round\n",
            "        B                   Elected      1\n",
            "        F    Remaining (tie with D)      2\n",
            "        D    Remaining (tie with F)      2\n",
            "        C Remaining (tie with G, A)      2\n",
            "        G Remaining (tie with C, A)      2\n",
            "        A Remaining (tie with C, G)      2\n",
            "        E                Eliminated      2\n",
            "\n",
            "Ballots Weight\n",
            " (F, G)      4\n",
            "   (D,)      3\n",
            " (G, F)      3\n",
            "   (A,)      3\n",
            " (C, D)      2\n",
            " (D, F)      1\n",
            " (C, A)      1\n"
          ]
        }
      ],
      "source": [
        "print(first_place_votes(election.state.profile))\n",
        "print()\n",
        "print(election.run_to_step(2))\n",
        "print()\n",
        "# now, since the election state is at step 2, \n",
        "# the profile will return the status at that step\n",
        "print(election.state.profile)"
      ]
    },
    {
      "cell_type": "markdown",
      "metadata": {
        "id": "h1M1zak-_GHP"
      },
      "source": [
        "$E$ has been removed from all of the ballots. Again, no one crosses the threshold so the candidate with the fewest first-place votes will be eliminated."
      ]
    },
    {
      "cell_type": "code",
      "execution_count": 8,
      "metadata": {
        "id": "KkW9UbQW_CqZ"
      },
      "outputs": [
        {
          "name": "stdout",
          "output_type": "stream",
          "text": [
            "{'F': Fraction(4, 1), 'D': Fraction(4, 1), 'G': Fraction(3, 1), 'A': Fraction(3, 1), 'C': Fraction(3, 1)}\n",
            "\n",
            "Current Round: 3\n",
            "Candidate                 Status  Round\n",
            "        B                Elected      1\n",
            "        F Remaining (tie with D)      3\n",
            "        D Remaining (tie with F)      3\n",
            "        C Remaining (tie with G)      3\n",
            "        G Remaining (tie with C)      3\n",
            "        A             Eliminated      3\n",
            "        E             Eliminated      2\n",
            "\n",
            "Ballots Weight\n",
            " (F, G)      4\n",
            "   (D,)      3\n",
            " (G, F)      3\n",
            "     ()      3\n",
            " (C, D)      2\n",
            " (D, F)      1\n",
            "   (C,)      1\n"
          ]
        }
      ],
      "source": [
        "print(first_place_votes(election.state.profile))\n",
        "print()\n",
        "print(election.run_to_step(3))\n",
        "print()\n",
        "print(election.state.profile)"
      ]
    },
    {
      "cell_type": "markdown",
      "metadata": {
        "id": "gbwYg51L_qFm"
      },
      "source": [
        "Note that here, several candidates were tied for the fewest first-place votes at this stage. When this happens, VoteKit uses a tiebreaker to decide who advances. This is customizable; it defaults to `random`, but VoteKit also includes `borda` and `firstplace`. The former breaks ties based on Borda scores, while the latter breaks ties based on (initial) first-place votes.\n",
        "\n",
        "The randomization prevents us from saying what exactly is going to happen as you run the code from here forward.\n",
        "\n",
        "### **Try it yourself**\n",
        "> Keep printing the first-place votes and running a step of the election until all seats have been filled. At each step, think through why the election state transitioned as it did."
      ]
    },
    {
      "cell_type": "markdown",
      "metadata": {
        "id": "eonJGL8WBjDK"
      },
      "source": [
        "We now change the transfer type. Using the same profile as above, we'll now use `random_transfer`. In fractional transfer, we reweighted all of the ballots in proportion to the surplus. Here, we will randomly choose the appropriate number of ballots to transfer (the same number as the surplus).  Though it sounds strange, this is the method actually used in Cambridge, MA.  (Recall that Cambridge has used STV continuously since 1941 so back in the day they probably needed a low-tech physical way to do the transfers.)"
      ]
    },
    {
      "cell_type": "code",
      "execution_count": 9,
      "metadata": {
        "id": "B7-O3PgEBORN"
      },
      "outputs": [
        {
          "name": "stdout",
          "output_type": "stream",
          "text": [
            "  Ballots Weight\n",
            "(B, C, D)      8\n",
            "(B, D, C)      8\n",
            "   (F, G)      4\n",
            "   (A, B)      3\n",
            "(C, A, B)      1\n",
            "   (D, E)      1\n",
            "(E, D, F)      1\n",
            "(G, E, F)      1\n",
            "Number of ballots: 27\n",
            "Number of candidates: 7\n",
            "\n",
            "Current Round: 7\n"
          ]
        },
        {
          "data": {
            "text/plain": [
              "Candidate     Status  Round\n",
              "        B    Elected      1\n",
              "        D    Elected      7\n",
              "        F Eliminated      6\n",
              "        A Eliminated      5\n",
              "        C Eliminated      4\n",
              "        E Eliminated      3\n",
              "        G Eliminated      2"
            ]
          },
          "execution_count": 9,
          "metadata": {},
          "output_type": "execute_result"
        }
      ],
      "source": [
        "from votekit.elections import random_transfer\n",
        "candidates = [\"A\", \"B\", \"C\", \"D\", \"E\", \"F\", \"G\"]\n",
        "\n",
        "ballots = [Ballot(ranking = [{\"A\"}, {\"B\"}], weight = 3),\n",
        "           Ballot(ranking = [{\"B\"}, {\"C\"}, {\"D\"}], weight = 8),\n",
        "           Ballot(ranking = [{\"B\"}, {\"D\"}, {\"C\"}], weight = 8),\n",
        "           Ballot(ranking = [{\"C\"}, {\"A\"}, {\"B\"}], weight = 1),\n",
        "           Ballot(ranking = [{\"D\"}, {\"E\"}], weight = 1),\n",
        "           Ballot(ranking = [{\"E\"}, {\"D\"}, {\"F\"}], weight = 1),\n",
        "           Ballot(ranking = [{\"F\"}, {\"G\"}], weight = 4),\n",
        "           Ballot(ranking = [{\"G\"}, {\"E\"}, {\"F\"}], weight = 1)]\n",
        "\n",
        "profile = PreferenceProfile(ballots= ballots)\n",
        "\n",
        "print(profile)\n",
        "print(\"Number of ballots:\", profile.num_ballots())\n",
        "print(\"Number of candidates:\", len(profile.get_candidates()))\n",
        "print()\n",
        "\n",
        "election = STV(profile = profile, transfer = random_transfer, seats = 2)\n",
        "\n",
        "election.run_election()\n",
        "\n"
      ]
    },
    {
      "cell_type": "markdown",
      "metadata": {},
      "source": [
        "### **Try it yourself**\n",
        "> Rerun the code above until you see that different candidates can win under random transfer."
      ]
    },
    {
      "cell_type": "markdown",
      "metadata": {
        "id": "umu1Zkk-CoIS"
      },
      "source": [
        "## Election State\n",
        "\n",
        "Let's poke around the `ElectionState` class a bit more. It contains a lot of useful information about what is happening in an election. We will also introduce the Borda election."
      ]
    },
    {
      "cell_type": "markdown",
      "metadata": {
        "id": "x4GtxNXtC--Z"
      },
      "source": [
        "### Borda Election\n",
        "\n",
        "In a Borda election, ranked ballots are converted to a score for a candidate, and then the candidates with the highest scores win. The traditional score vector is $(n,n-1,\\dots,1)$: that is, if there are $n$ candidates, the first-place candidate on a ballot is given $n$ points, the second place $n-1$, all the way down to last, who is given $1$ point. You can change the score vector using the `score_vector` parameter."
      ]
    },
    {
      "cell_type": "code",
      "execution_count": 10,
      "metadata": {
        "id": "YdcDjNxZDaQ8"
      },
      "outputs": [],
      "source": [
        "from votekit.elections import Borda\n",
        "import votekit.ballot_generator as bg\n",
        "candidates  = [\"A\", \"B\", \"C\", \"D\", \"E\", \"F\"]\n",
        "\n",
        "# recall IAC generates an \"all bets are off\" profile\n",
        "iac = bg.ImpartialAnonymousCulture(candidates = candidates)\n",
        "profile = iac.generate_profile(number_of_ballots= 1000)\n",
        "\n",
        "election = Borda(profile, seats = 3)"
      ]
    },
    {
      "cell_type": "markdown",
      "metadata": {
        "id": "aIYcpbRwLOX-"
      },
      "source": [
        "At first, the `ElectionState` is empty and the associated profile is just the raw profile, since nothing has occurred in the election. Only after either running the election, or running a step in the election, is an update made to `ElectionState`.\n",
        "\n",
        "\n"
      ]
    },
    {
      "cell_type": "code",
      "execution_count": 11,
      "metadata": {
        "id": "YsWE2pe3EAa5"
      },
      "outputs": [
        {
          "name": "stdout",
          "output_type": "stream",
          "text": [
            "PreferenceProfile too long, only showing 15 out of 415 rows.\n",
            "           Ballots Weight\n",
            "(E, A, B, D, C, F)     11\n",
            "(E, B, A, C, D, F)      9\n",
            "(C, F, E, D, B, A)      9\n",
            "(B, A, C, F, D, E)      9\n",
            "(C, F, B, D, A, E)      8\n",
            "(C, A, B, F, E, D)      8\n",
            "(F, C, B, D, E, A)      8\n",
            "(C, B, E, F, A, D)      8\n",
            "(A, B, E, C, D, F)      8\n",
            "(E, C, A, B, F, D)      8\n",
            "(C, F, E, B, A, D)      7\n",
            "(E, B, F, A, C, D)      7\n",
            "(F, A, C, D, B, E)      7\n",
            "(A, E, D, C, B, F)      7\n",
            "(C, A, B, D, E, F)      7\n",
            "\n",
            "Current Round: 1\n",
            "Candidate     Status  Round\n",
            "        C    Elected      1\n",
            "        A    Elected      1\n",
            "        E    Elected      1\n",
            "        B Eliminated      1\n",
            "        D Eliminated      1\n",
            "        F Eliminated      1\n"
          ]
        }
      ],
      "source": [
        "print(election.state.profile)\n",
        "print()\n",
        "\n",
        "print(election.run_step())\n",
        "state = election.state\n"
      ]
    },
    {
      "cell_type": "markdown",
      "metadata": {
        "id": "63ekmbZ7LfXd"
      },
      "source": [
        "The Borda election is one-shot (like plurality), so running a step or the election is equivalent. Let's see what the election state stores.\n",
        "\n"
      ]
    },
    {
      "cell_type": "code",
      "execution_count": 12,
      "metadata": {
        "id": "neBbirEdLdyF"
      },
      "outputs": [
        {
          "name": "stdout",
          "output_type": "stream",
          "text": [
            "Winners: [{'C'}, {'A'}, {'E'}]\n",
            "Eliminated: [{'B'}, {'D'}, {'F'}]\n",
            "Ranking: [{'C'}, {'A'}, {'E'}, {'B'}, {'D'}, {'F'}]\n",
            "Outcome of round 1: {'Elected': [{'C'}, {'A'}, {'E'}], 'Eliminated': [{'B'}, {'D'}, {'F'}], 'Remaining': []}\n",
            "Pandas dataframe:\n",
            "  Candidate Status       Round\n",
            "0  C            Elected  1    \n",
            "1  A            Elected  1    \n",
            "2  E            Elected  1    \n",
            "3  B         Eliminated  1    \n",
            "4  D         Eliminated  1    \n",
            "5  F         Eliminated  1    \n",
            "Dictionary\n",
            "{'elected': ['C', 'A', 'E'], 'eliminated': ['B', 'D', 'F'], 'remaining': [], 'ranking': ['C', 'A', 'E', 'B', 'D', 'F']}\n"
          ]
        }
      ],
      "source": [
        "# the winners up to the current round\n",
        "print(\"Winners:\", state.winners())\n",
        "\n",
        "# the eliminated candidates up to the current round\n",
        "print(\"Eliminated:\", state.eliminated())\n",
        "\n",
        "# the current ranking of the candidates\n",
        "print(\"Ranking:\", state.rankings())\n",
        "\n",
        "# the outcome of the given round\n",
        "print(\"Outcome of round 1:\", state.round_outcome(1))\n",
        "\n",
        "# the pandas dataframe that stores information\n",
        "print(\"Pandas dataframe:\")\n",
        "print(state.status())\n",
        "\n",
        "# as a dictionary\n",
        "print(\"Dictionary\")\n",
        "print(state.to_dict())"
      ]
    },
    {
      "cell_type": "markdown",
      "metadata": {
        "id": "6basx2KNb9ct"
      },
      "source": [
        "We can also save the election state as a json file."
      ]
    },
    {
      "cell_type": "code",
      "execution_count": 13,
      "metadata": {
        "id": "33POjTn2b9Mt"
      },
      "outputs": [],
      "source": [
        "state.to_json(\"borda_results.json\")"
      ]
    },
    {
      "cell_type": "markdown",
      "metadata": {
        "id": "As2Qb6TU0E7z"
      },
      "source": [
        "### **Try it yourself**\n",
        "\n",
        "> Using the following preference profile, try changing the score vector of a Borda election. Try replacing 3,2,1 with other Borda weights (decreasing and non-negative) showing that each candidate can be elected."
      ]
    },
    {
      "cell_type": "code",
      "execution_count": 14,
      "metadata": {
        "id": "IOdRlppX0ME-"
      },
      "outputs": [
        {
          "name": "stdout",
          "output_type": "stream",
          "text": [
            "Current Round: 1\n",
            "Candidate     Status  Round\n",
            "        C    Elected      1\n",
            "        B Eliminated      1\n",
            "        A Eliminated      1\n"
          ]
        }
      ],
      "source": [
        "ballots = [Ballot(ranking = [{\"A\"}, {\"B\"}, {\"C\"}], weight = 3),\n",
        "           Ballot(ranking = [{\"A\"}, {\"C\"}, {\"B\"}], weight = 2),\n",
        "           Ballot(ranking = [{\"B\"}, {\"C\"}, {\"A\"}], weight = 2),\n",
        "           Ballot(ranking = [{\"C\"}, {\"B\"}, {\"A\"}], weight = 4)]\n",
        "\n",
        "profile = PreferenceProfile(ballots=ballots, candidates = [\"A\", \"B\", \"C\"])\n",
        "\n",
        "# borda election\n",
        "score_vector = [3,2,1]\n",
        "election = Borda(profile, seats = 1, score_vector = score_vector)\n",
        "print(election.run_election())"
      ]
    },
    {
      "cell_type": "markdown",
      "metadata": {
        "id": "pklj64qsNiAL"
      },
      "source": [
        "Since a Borda election is a one-shot election, most of the information stored in the `ElectionState` is extraneous, but you can see its utility in an STV election where there are many rounds."
      ]
    },
    {
      "cell_type": "code",
      "execution_count": 15,
      "metadata": {
        "id": "ptzwPBIOL7rq"
      },
      "outputs": [
        {
          "name": "stdout",
          "output_type": "stream",
          "text": [
            "Round 2\n",
            "\n",
            "Winners: []\n",
            "Eliminated: [{'JOHN CHARLES WILSON'}]\n",
            "Ranking: [{'BETSY HODGES'}, {'MARK ANDREW'}, {'DON SAMUELS'}, {'CAM WINTON'}, {'JACKIE CHERRYHOMES'}, {'BOB FINE'}, {'DAN COHEN'}, {'STEPHANIE WOODRUFF'}, {'MARK V ANDERSON'}, {'DOUG MANN'}, {'OLE SAVIOR'}, {'ABDUL M RAHAMAN \"THE ROCK\"'}, {'ALICIA K. BENNETT'}, {'JAMES EVERETT'}, {'CAPTAIN JACK SPARROW'}, {'TONY LANE'}, {'MIKE GOULD'}, {'KURTIS W. HANNA'}, {'JAYMIE KELLY'}, {'CHRISTOPHER CLARK'}, {'CHRISTOPHER ROBIN ZIMMERMAN'}, {'JEFFREY ALAN WAGNER'}, {'TROY BENJEGERDES'}, {'NEAL BAXTER', 'GREGG A. IVERSON'}, {'JOSHUA REA'}, {'MERRILL ANDERSON'}, {'BILL KAHN'}, {'JOHN LESLIE HARTWIG'}, {'EDMUND BERNARD BRUYERE'}, {'RAHN V. WORKCUFF', 'JAMES \"JIMMY\" L. STROUD, JR.'}, {'BOB \"AGAIN\" CARNEY JR'}, {'CYD GORMAN'}, {'JOHN CHARLES WILSON'}]\n",
            "Outcome of round 1: {'Elected': [], 'Eliminated': [{'JOHN CHARLES WILSON'}], 'Remaining': [{'BETSY HODGES'}, {'MARK ANDREW'}, {'DON SAMUELS'}, {'CAM WINTON'}, {'JACKIE CHERRYHOMES'}, {'BOB FINE'}, {'DAN COHEN'}, {'STEPHANIE WOODRUFF'}, {'MARK V ANDERSON'}, {'DOUG MANN'}, {'OLE SAVIOR'}, {'ABDUL M RAHAMAN \"THE ROCK\"'}, {'ALICIA K. BENNETT'}, {'JAMES EVERETT'}, {'CAPTAIN JACK SPARROW'}, {'TONY LANE'}, {'MIKE GOULD'}, {'KURTIS W. HANNA'}, {'JAYMIE KELLY'}, {'CHRISTOPHER CLARK'}, {'CHRISTOPHER ROBIN ZIMMERMAN'}, {'JEFFREY ALAN WAGNER'}, {'TROY BENJEGERDES'}, {'NEAL BAXTER', 'GREGG A. IVERSON'}, {'JOSHUA REA'}, {'MERRILL ANDERSON'}, {'BILL KAHN'}, {'JOHN LESLIE HARTWIG'}, {'EDMUND BERNARD BRUYERE'}, {'RAHN V. WORKCUFF', 'JAMES \"JIMMY\" L. STROUD, JR.'}, {'BOB \"AGAIN\" CARNEY JR'}, {'CYD GORMAN'}]}\n",
            "\n",
            "Round 3\n",
            "\n",
            "Winners: []\n",
            "Eliminated: [{'CYD GORMAN'}, {'JOHN CHARLES WILSON'}]\n",
            "Ranking: [{'BETSY HODGES'}, {'MARK ANDREW'}, {'DON SAMUELS'}, {'CAM WINTON'}, {'JACKIE CHERRYHOMES'}, {'BOB FINE'}, {'DAN COHEN'}, {'STEPHANIE WOODRUFF'}, {'MARK V ANDERSON'}, {'DOUG MANN'}, {'OLE SAVIOR'}, {'ABDUL M RAHAMAN \"THE ROCK\"'}, {'ALICIA K. BENNETT'}, {'JAMES EVERETT'}, {'CAPTAIN JACK SPARROW'}, {'TONY LANE'}, {'MIKE GOULD'}, {'KURTIS W. HANNA'}, {'JAYMIE KELLY'}, {'CHRISTOPHER CLARK'}, {'CHRISTOPHER ROBIN ZIMMERMAN'}, {'JEFFREY ALAN WAGNER'}, {'TROY BENJEGERDES'}, {'GREGG A. IVERSON'}, {'NEAL BAXTER'}, {'JOSHUA REA'}, {'MERRILL ANDERSON'}, {'BILL KAHN'}, {'JOHN LESLIE HARTWIG'}, {'EDMUND BERNARD BRUYERE'}, {'RAHN V. WORKCUFF', 'JAMES \"JIMMY\" L. STROUD, JR.'}, {'BOB \"AGAIN\" CARNEY JR'}, {'CYD GORMAN'}, {'JOHN CHARLES WILSON'}]\n",
            "Outcome of round 2: {'Elected': [], 'Eliminated': [{'CYD GORMAN'}], 'Remaining': [{'BETSY HODGES'}, {'MARK ANDREW'}, {'DON SAMUELS'}, {'CAM WINTON'}, {'JACKIE CHERRYHOMES'}, {'BOB FINE'}, {'DAN COHEN'}, {'STEPHANIE WOODRUFF'}, {'MARK V ANDERSON'}, {'DOUG MANN'}, {'OLE SAVIOR'}, {'ABDUL M RAHAMAN \"THE ROCK\"'}, {'ALICIA K. BENNETT'}, {'JAMES EVERETT'}, {'CAPTAIN JACK SPARROW'}, {'TONY LANE'}, {'MIKE GOULD'}, {'KURTIS W. HANNA'}, {'JAYMIE KELLY'}, {'CHRISTOPHER CLARK'}, {'CHRISTOPHER ROBIN ZIMMERMAN'}, {'JEFFREY ALAN WAGNER'}, {'TROY BENJEGERDES'}, {'GREGG A. IVERSON'}, {'NEAL BAXTER'}, {'JOSHUA REA'}, {'MERRILL ANDERSON'}, {'BILL KAHN'}, {'JOHN LESLIE HARTWIG'}, {'EDMUND BERNARD BRUYERE'}, {'RAHN V. WORKCUFF', 'JAMES \"JIMMY\" L. STROUD, JR.'}, {'BOB \"AGAIN\" CARNEY JR'}]}\n",
            "\n",
            "Round 4\n",
            "\n",
            "Winners: []\n",
            "Eliminated: [{'BOB \"AGAIN\" CARNEY JR'}, {'CYD GORMAN'}, {'JOHN CHARLES WILSON'}]\n",
            "Ranking: [{'BETSY HODGES'}, {'MARK ANDREW'}, {'DON SAMUELS'}, {'CAM WINTON'}, {'JACKIE CHERRYHOMES'}, {'BOB FINE'}, {'DAN COHEN'}, {'STEPHANIE WOODRUFF'}, {'MARK V ANDERSON'}, {'DOUG MANN'}, {'OLE SAVIOR'}, {'ABDUL M RAHAMAN \"THE ROCK\"'}, {'ALICIA K. BENNETT'}, {'JAMES EVERETT'}, {'CAPTAIN JACK SPARROW'}, {'TONY LANE'}, {'MIKE GOULD'}, {'KURTIS W. HANNA'}, {'JAYMIE KELLY'}, {'CHRISTOPHER CLARK'}, {'CHRISTOPHER ROBIN ZIMMERMAN'}, {'JEFFREY ALAN WAGNER'}, {'TROY BENJEGERDES'}, {'GREGG A. IVERSON'}, {'NEAL BAXTER'}, {'MERRILL ANDERSON', 'JOSHUA REA'}, {'BILL KAHN'}, {'JOHN LESLIE HARTWIG'}, {'EDMUND BERNARD BRUYERE'}, {'JAMES \"JIMMY\" L. STROUD, JR.'}, {'RAHN V. WORKCUFF'}, {'BOB \"AGAIN\" CARNEY JR'}, {'CYD GORMAN'}, {'JOHN CHARLES WILSON'}]\n",
            "Outcome of round 3: {'Elected': [], 'Eliminated': [{'BOB \"AGAIN\" CARNEY JR'}], 'Remaining': [{'BETSY HODGES'}, {'MARK ANDREW'}, {'DON SAMUELS'}, {'CAM WINTON'}, {'JACKIE CHERRYHOMES'}, {'BOB FINE'}, {'DAN COHEN'}, {'STEPHANIE WOODRUFF'}, {'MARK V ANDERSON'}, {'DOUG MANN'}, {'OLE SAVIOR'}, {'ABDUL M RAHAMAN \"THE ROCK\"'}, {'ALICIA K. BENNETT'}, {'JAMES EVERETT'}, {'CAPTAIN JACK SPARROW'}, {'TONY LANE'}, {'MIKE GOULD'}, {'KURTIS W. HANNA'}, {'JAYMIE KELLY'}, {'CHRISTOPHER CLARK'}, {'CHRISTOPHER ROBIN ZIMMERMAN'}, {'JEFFREY ALAN WAGNER'}, {'TROY BENJEGERDES'}, {'GREGG A. IVERSON'}, {'NEAL BAXTER'}, {'MERRILL ANDERSON', 'JOSHUA REA'}, {'BILL KAHN'}, {'JOHN LESLIE HARTWIG'}, {'EDMUND BERNARD BRUYERE'}, {'JAMES \"JIMMY\" L. STROUD, JR.'}, {'RAHN V. WORKCUFF'}]}\n",
            "\n",
            "Round 5\n",
            "\n",
            "Winners: []\n",
            "Eliminated: [{'RAHN V. WORKCUFF'}, {'BOB \"AGAIN\" CARNEY JR'}, {'CYD GORMAN'}, {'JOHN CHARLES WILSON'}]\n",
            "Ranking: [{'BETSY HODGES'}, {'MARK ANDREW'}, {'DON SAMUELS'}, {'CAM WINTON'}, {'JACKIE CHERRYHOMES'}, {'BOB FINE'}, {'DAN COHEN'}, {'STEPHANIE WOODRUFF'}, {'MARK V ANDERSON'}, {'DOUG MANN'}, {'OLE SAVIOR'}, {'JAMES EVERETT', 'ABDUL M RAHAMAN \"THE ROCK\"'}, {'ALICIA K. BENNETT'}, {'CAPTAIN JACK SPARROW'}, {'TONY LANE'}, {'MIKE GOULD'}, {'KURTIS W. HANNA'}, {'JAYMIE KELLY'}, {'CHRISTOPHER CLARK'}, {'CHRISTOPHER ROBIN ZIMMERMAN'}, {'JEFFREY ALAN WAGNER'}, {'NEAL BAXTER'}, {'TROY BENJEGERDES'}, {'GREGG A. IVERSON'}, {'JOSHUA REA'}, {'MERRILL ANDERSON'}, {'BILL KAHN'}, {'JOHN LESLIE HARTWIG'}, {'EDMUND BERNARD BRUYERE'}, {'JAMES \"JIMMY\" L. STROUD, JR.'}, {'RAHN V. WORKCUFF'}, {'BOB \"AGAIN\" CARNEY JR'}, {'CYD GORMAN'}, {'JOHN CHARLES WILSON'}]\n",
            "Outcome of round 4: {'Elected': [], 'Eliminated': [{'RAHN V. WORKCUFF'}], 'Remaining': [{'BETSY HODGES'}, {'MARK ANDREW'}, {'DON SAMUELS'}, {'CAM WINTON'}, {'JACKIE CHERRYHOMES'}, {'BOB FINE'}, {'DAN COHEN'}, {'STEPHANIE WOODRUFF'}, {'MARK V ANDERSON'}, {'DOUG MANN'}, {'OLE SAVIOR'}, {'JAMES EVERETT', 'ABDUL M RAHAMAN \"THE ROCK\"'}, {'ALICIA K. BENNETT'}, {'CAPTAIN JACK SPARROW'}, {'TONY LANE'}, {'MIKE GOULD'}, {'KURTIS W. HANNA'}, {'JAYMIE KELLY'}, {'CHRISTOPHER CLARK'}, {'CHRISTOPHER ROBIN ZIMMERMAN'}, {'JEFFREY ALAN WAGNER'}, {'NEAL BAXTER'}, {'TROY BENJEGERDES'}, {'GREGG A. IVERSON'}, {'JOSHUA REA'}, {'MERRILL ANDERSON'}, {'BILL KAHN'}, {'JOHN LESLIE HARTWIG'}, {'EDMUND BERNARD BRUYERE'}, {'JAMES \"JIMMY\" L. STROUD, JR.'}]}\n",
            "\n",
            "Round 6\n",
            "\n",
            "Winners: []\n",
            "Eliminated: [{'JAMES \"JIMMY\" L. STROUD, JR.'}, {'RAHN V. WORKCUFF'}, {'BOB \"AGAIN\" CARNEY JR'}, {'CYD GORMAN'}, {'JOHN CHARLES WILSON'}]\n",
            "Ranking: [{'BETSY HODGES'}, {'MARK ANDREW'}, {'DON SAMUELS'}, {'CAM WINTON'}, {'JACKIE CHERRYHOMES'}, {'BOB FINE'}, {'DAN COHEN'}, {'STEPHANIE WOODRUFF'}, {'MARK V ANDERSON'}, {'DOUG MANN'}, {'OLE SAVIOR'}, {'ABDUL M RAHAMAN \"THE ROCK\"'}, {'ALICIA K. BENNETT'}, {'JAMES EVERETT'}, {'CAPTAIN JACK SPARROW'}, {'TONY LANE'}, {'MIKE GOULD'}, {'JAYMIE KELLY'}, {'KURTIS W. HANNA'}, {'CHRISTOPHER CLARK'}, {'CHRISTOPHER ROBIN ZIMMERMAN'}, {'JEFFREY ALAN WAGNER'}, {'NEAL BAXTER'}, {'TROY BENJEGERDES'}, {'GREGG A. IVERSON'}, {'MERRILL ANDERSON'}, {'JOSHUA REA'}, {'BILL KAHN'}, {'JOHN LESLIE HARTWIG'}, {'EDMUND BERNARD BRUYERE'}, {'JAMES \"JIMMY\" L. STROUD, JR.'}, {'RAHN V. WORKCUFF'}, {'BOB \"AGAIN\" CARNEY JR'}, {'CYD GORMAN'}, {'JOHN CHARLES WILSON'}]\n",
            "Outcome of round 5: {'Elected': [], 'Eliminated': [{'JAMES \"JIMMY\" L. STROUD, JR.'}], 'Remaining': [{'BETSY HODGES'}, {'MARK ANDREW'}, {'DON SAMUELS'}, {'CAM WINTON'}, {'JACKIE CHERRYHOMES'}, {'BOB FINE'}, {'DAN COHEN'}, {'STEPHANIE WOODRUFF'}, {'MARK V ANDERSON'}, {'DOUG MANN'}, {'OLE SAVIOR'}, {'ABDUL M RAHAMAN \"THE ROCK\"'}, {'ALICIA K. BENNETT'}, {'JAMES EVERETT'}, {'CAPTAIN JACK SPARROW'}, {'TONY LANE'}, {'MIKE GOULD'}, {'JAYMIE KELLY'}, {'KURTIS W. HANNA'}, {'CHRISTOPHER CLARK'}, {'CHRISTOPHER ROBIN ZIMMERMAN'}, {'JEFFREY ALAN WAGNER'}, {'NEAL BAXTER'}, {'TROY BENJEGERDES'}, {'GREGG A. IVERSON'}, {'MERRILL ANDERSON'}, {'JOSHUA REA'}, {'BILL KAHN'}, {'JOHN LESLIE HARTWIG'}, {'EDMUND BERNARD BRUYERE'}]}\n",
            "\n"
          ]
        }
      ],
      "source": [
        "minneapolis_profile = load_csv(\"mn_2013_cast_vote_record.csv\")\n",
        "minneapolis_profile = remove_noncands(minneapolis_profile, \n",
        "                                      [\"undervote\", \"overvote\", \"UWI\"])\n",
        "\n",
        "minn_election = STV(profile = minneapolis_profile, \n",
        "                    transfer = fractional_transfer, \n",
        "                    seats = 1)\n",
        "\n",
        "for i in range(1,6):\n",
        "  minn_election.run_step()\n",
        "  state = minn_election.state\n",
        "\n",
        "  print(f\"Round {i+1}\\n\")\n",
        "  # the winners up to the current round\n",
        "  print(\"Winners:\", state.winners())\n",
        "\n",
        "  # the eliminated candidates up to the current round\n",
        "  print(\"Eliminated:\", state.eliminated())\n",
        "\n",
        "  # the current ranking of the candidates\n",
        "  print(\"Ranking:\", state.rankings())\n",
        "\n",
        "  # the outcome of the given round\n",
        "  print(f\"Outcome of round {i}:\", state.round_outcome(i))\n",
        "  print()"
      ]
    },
    {
      "cell_type": "markdown",
      "metadata": {
        "id": "Hvr476McWgwX"
      },
      "source": [
        "## Conclusion\n",
        "There are many different possible election methods, both for choosing a single seat or multiple seats. VoteKit has a host of built-in election methods, as well as the functionality to let you create your own kind of election. You have been introduced to the STV and Borda elections and learned about the `ElectionState` object. This should allow you to model any kind of elections you see in the real world, including rules that have not yet been implemented in VoteKit."
      ]
    },
    {
      "cell_type": "markdown",
      "metadata": {
        "id": "D6NdYJ9GPVOO"
      },
      "source": [
        "### Further Prompts: Creating your own election system\n",
        "\n",
        "VoteKit can't be comprehensive in terms of possible election rules. However, with the `Election` and `ElectionState` classes, you can create your own. Let's create a bit of a silly example; to elect $m$ seats, at each stage of the election we randomly choose one candidate to elect."
      ]
    },
    {
      "cell_type": "code",
      "execution_count": 16,
      "metadata": {
        "id": "UsKmLHFzQKGM"
      },
      "outputs": [],
      "source": [
        "from votekit.models import Election\n",
        "from votekit.election_state import ElectionState\n",
        "from votekit.utils import remove_cand\n",
        "import random\n",
        "\n",
        "class RandomWinners(Election):\n",
        "    \"\"\"\n",
        "    Simulates an election where we randomly choose winners at each stage.\n",
        "\n",
        "    **Attributes**\n",
        "\n",
        "    `profile`\n",
        "    :   PreferenceProfile to run election on\n",
        "\n",
        "    `seats`\n",
        "    :   number of seats to be elected\n",
        "\n",
        "\n",
        "    \"\"\"\n",
        "\n",
        "    def __init__(self, profile: PreferenceProfile, seats: int):\n",
        "        # the super method says call the Election class\n",
        "        # ballot_ties = True means it will resolve any ties in our ballots\n",
        "        super().__init__(profile, ballot_ties = True)\n",
        "\n",
        "        self.seats = seats\n",
        "\n",
        "    def next_round(self) -> bool:\n",
        "        \"\"\"\n",
        "        Determines if another round is needed.\n",
        "\n",
        "        Returns:\n",
        "            True if number of seats has not been met, False otherwise\n",
        "        \"\"\"\n",
        "        cands_elected = 0\n",
        "        for s in self.state.winners():\n",
        "            cands_elected += len(s)\n",
        "        return cands_elected < self.seats\n",
        "\n",
        "    def run_step(self):\n",
        "        if self.next_round():\n",
        "          # get the remaining candidates\n",
        "          remaining = self.state.profile.get_candidates()\n",
        "\n",
        "          # randomly choose one\n",
        "          winning_candidate  = random.choice(remaining)\n",
        "          # some formatting to make it compatible with ElectionState, which\n",
        "          # requires a list of sets of strings\n",
        "          elected =[{winning_candidate}]\n",
        "\n",
        "          # remove the winner from the ballots\n",
        "          new_ballots = remove_cand(winning_candidate, self.state.profile.ballots)\n",
        "          new_profile = PreferenceProfile(ballots= new_ballots)\n",
        "\n",
        "          # determine who remains\n",
        "          remaining = [{c} for c in remaining if c != winning_candidate]\n",
        "\n",
        "\n",
        "          # update for the next round\n",
        "          self.state = ElectionState(curr_round = self.state.curr_round + 1,\n",
        "                                    elected = elected,\n",
        "                                    eliminated_cands = [],\n",
        "                                    remaining = remaining,\n",
        "                                    profile = new_profile,\n",
        "                                    previous= self.state)\n",
        "\n",
        "          # if this is the last round, move remaining to eliminated\n",
        "          if not self.next_round():\n",
        "            self.state = ElectionState(curr_round = self.state.curr_round,\n",
        "                                    elected = elected,\n",
        "                                    eliminated_cands = remaining,\n",
        "                                    remaining = [],\n",
        "                                    profile = new_profile,\n",
        "                                    previous= self.state.previous)\n",
        "          return(self.state)\n",
        "\n",
        "\n",
        "    def run_election(self):\n",
        "        # run steps until we elect the required number of candidates\n",
        "        while self.next_round():\n",
        "            self.run_step()\n",
        "\n",
        "        return(self.state)\n"
      ]
    },
    {
      "cell_type": "code",
      "execution_count": 17,
      "metadata": {
        "id": "H1yqeXnlRbfV"
      },
      "outputs": [],
      "source": [
        "candidates  = [\"A\", \"B\", \"C\", \"D\", \"E\", \"F\"]\n",
        "profile = bg.ImpartialCulture(candidates = candidates).generate_profile(1000)\n",
        "\n",
        "election = RandomWinners(profile= profile, seats  = 3)"
      ]
    },
    {
      "cell_type": "code",
      "execution_count": 18,
      "metadata": {
        "id": "6-JzyjToRqFK"
      },
      "outputs": [
        {
          "name": "stdout",
          "output_type": "stream",
          "text": [
            "Current Round: 1\n",
            "Candidate    Status  Round\n",
            "        F   Elected      1\n",
            "        B Remaining      1\n",
            "        D Remaining      1\n",
            "        A Remaining      1\n",
            "        E Remaining      1\n",
            "        C Remaining      1\n",
            "Current Round: 2\n",
            "Candidate    Status  Round\n",
            "        F   Elected      1\n",
            "        E   Elected      2\n",
            "        B Remaining      2\n",
            "        D Remaining      2\n",
            "        A Remaining      2\n",
            "        C Remaining      2\n",
            "Current Round: 3\n",
            "Candidate     Status  Round\n",
            "        F    Elected      1\n",
            "        E    Elected      2\n",
            "        D    Elected      3\n",
            "        B Eliminated      3\n",
            "        A Eliminated      3\n",
            "        C Eliminated      3\n"
          ]
        }
      ],
      "source": [
        "print(election.run_step())\n",
        "print(election.run_step())\n",
        "print(election.run_step())"
      ]
    },
    {
      "cell_type": "markdown",
      "metadata": {
        "id": "1EdvPv0H1KbG"
      },
      "source": [
        "### **Try it yourself**\n",
        "\n",
        "> Create an election class called `AlphabeticalElection` that elects a number of candidates decided by the user simply based on alphabetical order. You mind find it helpful to use the following code which sorts a list of strings:\n",
        "\n"
      ]
    },
    {
      "cell_type": "code",
      "execution_count": 19,
      "metadata": {},
      "outputs": [
        {
          "name": "stdout",
          "output_type": "stream",
          "text": [
            "['apple', 'banana', 'grape', 'orange']\n"
          ]
        }
      ],
      "source": [
        "# Original list of strings\n",
        "original_list = [\"banana\", \"apple\", \"grape\", \"orange\"]\n",
        "\n",
        "# Alphabetically sorted list\n",
        "sorted_list = sorted(original_list)\n",
        "\n",
        "# Print the sorted list\n",
        "print(sorted_list)"
      ]
    },
    {
      "cell_type": "code",
      "execution_count": 20,
      "metadata": {
        "id": "bR7z7Vwz1KNs"
      },
      "outputs": [],
      "source": [
        "class AlphabeticaElection(Election):\n",
        "    \"\"\"\n",
        "    Simulates an election where we choose alphabetically.\n",
        "\n",
        "    **Attributes**\n",
        "\n",
        "    `profile`\n",
        "    :   PreferenceProfile to run election on\n",
        "\n",
        "    `seats`\n",
        "    :   number of seats to be elected\n",
        "\n",
        "\n",
        "    \"\"\"\n",
        "\n",
        "    def __init__(self, profile: PreferenceProfile, seats: int):\n",
        "        # the super method says call the Election class\n",
        "        # ballot_ties = True means it will resolve any ties in our ballots\n",
        "        super().__init__(profile, ballot_ties = True)\n",
        "\n",
        "        self.seats = seats\n",
        "\n",
        "    def next_round(self) -> bool:\n",
        "        \"\"\"\n",
        "        Determines if another round is needed.\n",
        "\n",
        "        Returns:\n",
        "            True if number of seats has not been met, False otherwise\n",
        "        \"\"\"\n",
        "        cands_elected = 0\n",
        "        for s in self.state.winners():\n",
        "            cands_elected += len(s)\n",
        "        return cands_elected < self.seats\n",
        "\n",
        "    def run_step(self):\n",
        "        if self.next_round():\n",
        "\n",
        "          # do some stuff!\n",
        "\n",
        "          return(self.state)\n",
        "\n",
        "\n",
        "    def run_election(self):\n",
        "        # run steps until we elect the required number of candidates\n",
        "        while self.next_round():\n",
        "            self.run_step()\n",
        "\n",
        "        return(self.state)\n"
      ]
    }
  ],
  "metadata": {
    "colab": {
      "provenance": []
    },
    "kernelspec": {
      "display_name": "Python 3",
      "name": "python3"
    },
    "language_info": {
      "codemirror_mode": {
        "name": "ipython",
        "version": 3
      },
      "file_extension": ".py",
      "mimetype": "text/x-python",
      "name": "python",
      "nbconvert_exporter": "python",
      "pygments_lexer": "ipython3",
      "version": "3.11.8"
    }
  },
  "nbformat": 4,
  "nbformat_minor": 0
}
