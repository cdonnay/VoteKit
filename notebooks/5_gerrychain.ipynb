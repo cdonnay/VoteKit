{
 "cells": [
  {
   "cell_type": "markdown",
   "metadata": {},
   "source": [
    "# Gerrychain\n",
    "MGGG also maintains a package called `gerrychain`, which is used to draw legislative districts. One common pipeline that we use in the lab is to generate a large number of possible maps using `gerrychain`, and then for each district in each map, use VoteKit to understand possible election outcomes. This section of the tutorial provides a short example of how this might be done."
   ]
  },
  {
   "cell_type": "markdown",
   "metadata": {},
   "source": [
    "To learn how to use gerrychain, please visit https://mggg.github.io/GerryChain/index.html\n",
    "\n",
    "You will need to run `pip install 'gerrychain[geo]'` in your terminal with your virtual environment activated."
   ]
  },
  {
   "cell_type": "markdown",
   "metadata": {},
   "source": [
    "# TODO download a json for pennsylvania\n",
    "https://github.com/mggg/GerryChain/blob/main/docs/_static/PA_VTDs.json"
   ]
  },
  {
   "cell_type": "markdown",
   "metadata": {},
   "source": [
    "We will use the 2016 Presidential race in Pennsylvania to estimate the number of Republicans and Democrats in each district in the map. To start, we run gerrychain to generate a large number of plans with four districts. Again, don't worry about the implementation details of gerrychain here."
   ]
  },
  {
   "cell_type": "code",
   "execution_count": 5,
   "metadata": {},
   "outputs": [],
   "source": [
    "import matplotlib.pyplot as plt\n",
    "from gerrychain import (GeographicPartition, Partition, Graph, MarkovChain,\n",
    "                        proposals, updaters, constraints, accept, Election)\n",
    "from gerrychain.proposals import recom\n",
    "from functools import partial\n",
    "import pandas\n",
    "\n",
    "NUM_DISTRICTS = 4\n",
    "graph = Graph.from_json(\"./PA_VTDs.json\")\n",
    "\n",
    "# Population updater, for computing how close to equality the district\n",
    "# populations are. \"TOTPOP\" is the population column from our shapefile.\n",
    "my_updaters = {\"population\": updaters.Tally(\"TOT_POP\", alias=\"population\")}\n",
    "\n",
    "# Election updaters, for computing election results using the vote totals\n",
    "# from our shapefile.\n",
    "\n",
    "elections = [\n",
    "    Election(\"PRES16\", {\"Democratic\": \"T16PRESD\", \"Republican\": \"T16PRESR\"})\n",
    "]\n",
    "\n",
    "election_updaters = {election.name: election for election in elections}\n",
    "my_updaters.update(election_updaters)\n",
    "\n",
    "# we use a random plan with 4 districts\n",
    "initial_partition = Partition.from_random_assignment(\n",
    "    graph,\n",
    "    n_parts = NUM_DISTRICTS,\n",
    "    epsilon = .02,\n",
    "    pop_col=\"TOT_POP\",\n",
    "    updaters=my_updaters\n",
    ")\n",
    "\n",
    "# The ReCom proposal needs to know the ideal population for the districts so that\n",
    "# we can improve speed by bailing early on unbalanced partitions.\n",
    "\n",
    "ideal_population = sum(initial_partition[\"population\"].values()) / len(initial_partition)\n",
    "\n",
    "# We use functools.partial to bind the extra parameters (pop_col, pop_target, epsilon, node_repeats)\n",
    "# of the recom proposal.\n",
    "proposal = partial(\n",
    "    recom,\n",
    "    pop_col=\"TOT_POP\",\n",
    "    pop_target=ideal_population,\n",
    "    epsilon=0.02,\n",
    "    node_repeats=2\n",
    ")\n",
    "\n",
    "\n",
    "pop_constraint = constraints.within_percent_of_ideal_population(initial_partition, 0.02)\n",
    "\n",
    "chain = MarkovChain(\n",
    "    proposal=proposal,\n",
    "    constraints=[\n",
    "        pop_constraint\n",
    "    ],\n",
    "    accept=accept.always_accept,\n",
    "    initial_state=initial_partition,\n",
    "    total_steps=100\n",
    ")\n",
    "\n",
    "# This might take a minute.\n",
    "# store the democrat and republican vote totals\n",
    "data = pandas.DataFrame(\n",
    "    [partition[\"PRES16\"].counts(\"Democratic\") + partition[\"PRES16\"].counts(\"Republican\")\n",
    "    for partition in chain], \n",
    "    columns = [f\"D_{i}_Dem\" for i in range(len(initial_partition))] + \\\n",
    "        [f\"D_{i}_Rep\" for i in range(len(initial_partition))]\n",
    "        )"
   ]
  },
  {
   "cell_type": "markdown",
   "metadata": {},
   "source": [
    "Now for each district in each map (4 x 100), we ask VoteKit to simulate an STV election where each district elects 4 candidates. We compute the number of Republican candidates who won, and display this for three different models of ballot generator using an area plot."
   ]
  },
  {
   "cell_type": "code",
   "execution_count": null,
   "metadata": {},
   "outputs": [],
   "source": []
  },
  {
   "cell_type": "code",
   "execution_count": null,
   "metadata": {},
   "outputs": [],
   "source": [
    "import votekit.ballot_generator as bg\n",
    "\n",
    "\n",
    "\n",
    "for map_num, row in data.iterrows():\n",
    "\n",
    "    for district in range(NUM_DISTRICTS):\n"
   ]
  }
 ],
 "metadata": {
  "kernelspec": {
   "display_name": ".venv",
   "language": "python",
   "name": "python3"
  },
  "language_info": {
   "codemirror_mode": {
    "name": "ipython",
    "version": 3
   },
   "file_extension": ".py",
   "mimetype": "text/x-python",
   "name": "python",
   "nbconvert_exporter": "python",
   "pygments_lexer": "ipython3",
   "version": "3.11.4"
  }
 },
 "nbformat": 4,
 "nbformat_minor": 2
}
